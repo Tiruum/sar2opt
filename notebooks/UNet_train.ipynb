{
 "cells": [
  {
   "cell_type": "code",
   "execution_count": 1,
   "metadata": {},
   "outputs": [
    {
     "name": "stderr",
     "output_type": "stream",
     "text": [
      "C:\\Users\\tiruu\\AppData\\Local\\Temp\\ipykernel_4892\\732034018.py:30: FutureWarning: You are using `torch.load` with `weights_only=False` (the current default value), which uses the default pickle module implicitly. It is possible to construct malicious pickle data which will execute arbitrary code during unpickling (See https://github.com/pytorch/pytorch/blob/main/SECURITY.md#untrusted-models for more details). In a future release, the default value for `weights_only` will be flipped to `True`. This limits the functions that could be executed during unpickling. Arbitrary objects will no longer be allowed to be loaded via this mode unless they are explicitly allowlisted by the user via `torch.serialization.add_safe_globals`. We recommend you start setting `weights_only=True` for any use case where you don't have full control of the loaded file. Please open an issue on GitHub for any issues related to this experimental feature.\n",
      "  model.load_state_dict(torch.load('../saved_models/best_model.pth', map_location=DEVICE))\n"
     ]
    },
    {
     "name": "stdout",
     "output_type": "stream",
     "text": [
      "Epoch [1/200]\n"
     ]
    },
    {
     "name": "stderr",
     "output_type": "stream",
     "text": [
      "                                                             \r"
     ]
    },
    {
     "name": "stdout",
     "output_type": "stream",
     "text": [
      "Train Loss: 0.1711, Validation Loss: 0.2255\n",
      "Validation loss improved. Model saved to ../saved_models/best_model.pth\n",
      "Epoch [2/200]\n"
     ]
    },
    {
     "name": "stderr",
     "output_type": "stream",
     "text": [
      "                                                             \r"
     ]
    },
    {
     "name": "stdout",
     "output_type": "stream",
     "text": [
      "Train Loss: 0.1664, Validation Loss: 0.2220\n",
      "Validation loss improved. Model saved to ../saved_models/best_model.pth\n",
      "Epoch [3/200]\n"
     ]
    },
    {
     "name": "stderr",
     "output_type": "stream",
     "text": [
      "                                                             \r"
     ]
    },
    {
     "name": "stdout",
     "output_type": "stream",
     "text": [
      "Train Loss: 0.1619, Validation Loss: 0.2240\n",
      "No improvement for 1 epoch(s).\n",
      "Epoch [4/200]\n"
     ]
    },
    {
     "name": "stderr",
     "output_type": "stream",
     "text": [
      "                                                             \r"
     ]
    },
    {
     "name": "stdout",
     "output_type": "stream",
     "text": [
      "Train Loss: 0.1623, Validation Loss: 0.2258\n",
      "No improvement for 2 epoch(s).\n",
      "Epoch [5/200]\n"
     ]
    },
    {
     "name": "stderr",
     "output_type": "stream",
     "text": [
      "                                                             \r"
     ]
    },
    {
     "name": "stdout",
     "output_type": "stream",
     "text": [
      "Train Loss: 0.1524, Validation Loss: 0.2189\n",
      "Validation loss improved. Model saved to ../saved_models/best_model.pth\n",
      "Epoch [6/200]\n"
     ]
    },
    {
     "name": "stderr",
     "output_type": "stream",
     "text": [
      "                                                             \r"
     ]
    },
    {
     "name": "stdout",
     "output_type": "stream",
     "text": [
      "Train Loss: 0.1476, Validation Loss: 0.2188\n",
      "Validation loss improved. Model saved to ../saved_models/best_model.pth\n",
      "Epoch [7/200]\n"
     ]
    },
    {
     "name": "stderr",
     "output_type": "stream",
     "text": [
      "                                                             \r"
     ]
    },
    {
     "name": "stdout",
     "output_type": "stream",
     "text": [
      "Train Loss: 0.1434, Validation Loss: 0.2178\n",
      "Validation loss improved. Model saved to ../saved_models/best_model.pth\n",
      "Epoch [8/200]\n"
     ]
    },
    {
     "name": "stderr",
     "output_type": "stream",
     "text": [
      "                                                             \r"
     ]
    },
    {
     "name": "stdout",
     "output_type": "stream",
     "text": [
      "Train Loss: 0.1379, Validation Loss: 0.2165\n",
      "Validation loss improved. Model saved to ../saved_models/best_model.pth\n",
      "Epoch [9/200]\n"
     ]
    },
    {
     "name": "stderr",
     "output_type": "stream",
     "text": [
      "                                                             \r"
     ]
    },
    {
     "name": "stdout",
     "output_type": "stream",
     "text": [
      "Train Loss: 0.1361, Validation Loss: 0.2146\n",
      "Validation loss improved. Model saved to ../saved_models/best_model.pth\n",
      "Epoch [10/200]\n"
     ]
    },
    {
     "name": "stderr",
     "output_type": "stream",
     "text": [
      "                                                             \r"
     ]
    },
    {
     "name": "stdout",
     "output_type": "stream",
     "text": [
      "Train Loss: 0.1446, Validation Loss: 0.2189\n",
      "No improvement for 1 epoch(s).\n",
      "Epoch [11/200]\n"
     ]
    },
    {
     "name": "stderr",
     "output_type": "stream",
     "text": [
      "                                                             \r"
     ]
    },
    {
     "name": "stdout",
     "output_type": "stream",
     "text": [
      "Train Loss: 0.1292, Validation Loss: 0.2148\n",
      "No improvement for 2 epoch(s).\n",
      "Epoch [12/200]\n"
     ]
    },
    {
     "name": "stderr",
     "output_type": "stream",
     "text": [
      "                                                             \r"
     ]
    },
    {
     "name": "stdout",
     "output_type": "stream",
     "text": [
      "Train Loss: 0.1260, Validation Loss: 0.2149\n",
      "No improvement for 3 epoch(s).\n",
      "Epoch [13/200]\n"
     ]
    },
    {
     "name": "stderr",
     "output_type": "stream",
     "text": [
      "                                                             \r"
     ]
    },
    {
     "name": "stdout",
     "output_type": "stream",
     "text": [
      "Train Loss: 0.1234, Validation Loss: 0.2182\n",
      "No improvement for 4 epoch(s).\n",
      "Epoch [14/200]\n"
     ]
    },
    {
     "name": "stderr",
     "output_type": "stream",
     "text": [
      "                                                             \r"
     ]
    },
    {
     "name": "stdout",
     "output_type": "stream",
     "text": [
      "Train Loss: 0.1228, Validation Loss: 0.2260\n",
      "No improvement for 5 epoch(s).\n",
      "Epoch [15/200]\n"
     ]
    },
    {
     "name": "stderr",
     "output_type": "stream",
     "text": [
      "                                                             \r"
     ]
    },
    {
     "name": "stdout",
     "output_type": "stream",
     "text": [
      "Train Loss: 0.1210, Validation Loss: 0.2118\n",
      "Validation loss improved. Model saved to ../saved_models/best_model.pth\n",
      "Epoch [16/200]\n"
     ]
    },
    {
     "name": "stderr",
     "output_type": "stream",
     "text": [
      "                                                             \r"
     ]
    },
    {
     "name": "stdout",
     "output_type": "stream",
     "text": [
      "Train Loss: 0.1170, Validation Loss: 0.2150\n",
      "No improvement for 1 epoch(s).\n",
      "Epoch [17/200]\n"
     ]
    },
    {
     "name": "stderr",
     "output_type": "stream",
     "text": [
      "                                                             \r"
     ]
    },
    {
     "name": "stdout",
     "output_type": "stream",
     "text": [
      "Train Loss: 0.1152, Validation Loss: 0.2138\n",
      "No improvement for 2 epoch(s).\n",
      "Epoch [18/200]\n"
     ]
    },
    {
     "name": "stderr",
     "output_type": "stream",
     "text": [
      "                                                             \r"
     ]
    },
    {
     "name": "stdout",
     "output_type": "stream",
     "text": [
      "Train Loss: 0.1142, Validation Loss: 0.2141\n",
      "No improvement for 3 epoch(s).\n",
      "Epoch [19/200]\n"
     ]
    },
    {
     "name": "stderr",
     "output_type": "stream",
     "text": [
      "                                                             \r"
     ]
    },
    {
     "name": "stdout",
     "output_type": "stream",
     "text": [
      "Train Loss: 0.1109, Validation Loss: 0.2114\n",
      "Validation loss improved. Model saved to ../saved_models/best_model.pth\n",
      "Epoch [20/200]\n"
     ]
    },
    {
     "name": "stderr",
     "output_type": "stream",
     "text": [
      "                                                             \r"
     ]
    },
    {
     "name": "stdout",
     "output_type": "stream",
     "text": [
      "Train Loss: 0.1109, Validation Loss: 0.2120\n",
      "No improvement for 1 epoch(s).\n",
      "Epoch [21/200]\n"
     ]
    },
    {
     "name": "stderr",
     "output_type": "stream",
     "text": [
      "                                                             \r"
     ]
    },
    {
     "name": "stdout",
     "output_type": "stream",
     "text": [
      "Train Loss: 0.1075, Validation Loss: 0.2126\n",
      "No improvement for 2 epoch(s).\n",
      "Epoch [22/200]\n"
     ]
    },
    {
     "name": "stderr",
     "output_type": "stream",
     "text": [
      "                                                             \r"
     ]
    },
    {
     "name": "stdout",
     "output_type": "stream",
     "text": [
      "Train Loss: 0.1069, Validation Loss: 0.2121\n",
      "No improvement for 3 epoch(s).\n",
      "Epoch [23/200]\n"
     ]
    },
    {
     "name": "stderr",
     "output_type": "stream",
     "text": [
      "                                                             \r"
     ]
    },
    {
     "name": "stdout",
     "output_type": "stream",
     "text": [
      "Train Loss: 0.1047, Validation Loss: 0.2116\n",
      "No improvement for 4 epoch(s).\n",
      "Epoch [24/200]\n"
     ]
    },
    {
     "name": "stderr",
     "output_type": "stream",
     "text": [
      "                                                             \r"
     ]
    },
    {
     "name": "stdout",
     "output_type": "stream",
     "text": [
      "Train Loss: 0.1040, Validation Loss: 0.2149\n",
      "No improvement for 5 epoch(s).\n",
      "Epoch [25/200]\n"
     ]
    },
    {
     "name": "stderr",
     "output_type": "stream",
     "text": [
      "                                                             \r"
     ]
    },
    {
     "name": "stdout",
     "output_type": "stream",
     "text": [
      "Train Loss: 0.1042, Validation Loss: 0.2108\n",
      "Validation loss improved. Model saved to ../saved_models/best_model.pth\n",
      "Epoch [26/200]\n"
     ]
    },
    {
     "name": "stderr",
     "output_type": "stream",
     "text": [
      "                                                             \r"
     ]
    },
    {
     "name": "stdout",
     "output_type": "stream",
     "text": [
      "Train Loss: 0.1051, Validation Loss: 0.2117\n",
      "No improvement for 1 epoch(s).\n",
      "Epoch [27/200]\n"
     ]
    },
    {
     "name": "stderr",
     "output_type": "stream",
     "text": [
      "                                                             \r"
     ]
    },
    {
     "name": "stdout",
     "output_type": "stream",
     "text": [
      "Train Loss: 0.0995, Validation Loss: 0.2118\n",
      "No improvement for 2 epoch(s).\n",
      "Epoch [28/200]\n"
     ]
    },
    {
     "name": "stderr",
     "output_type": "stream",
     "text": [
      "                                                             \r"
     ]
    },
    {
     "name": "stdout",
     "output_type": "stream",
     "text": [
      "Train Loss: 0.0975, Validation Loss: 0.2122\n",
      "No improvement for 3 epoch(s).\n",
      "Epoch [29/200]\n"
     ]
    },
    {
     "name": "stderr",
     "output_type": "stream",
     "text": [
      "                                                             \r"
     ]
    },
    {
     "name": "stdout",
     "output_type": "stream",
     "text": [
      "Train Loss: 0.0964, Validation Loss: 0.2105\n",
      "Validation loss improved. Model saved to ../saved_models/best_model.pth\n",
      "Epoch [30/200]\n"
     ]
    },
    {
     "name": "stderr",
     "output_type": "stream",
     "text": [
      "                                                             \r"
     ]
    },
    {
     "name": "stdout",
     "output_type": "stream",
     "text": [
      "Train Loss: 0.0962, Validation Loss: 0.2096\n",
      "Validation loss improved. Model saved to ../saved_models/best_model.pth\n",
      "Epoch [31/200]\n"
     ]
    },
    {
     "name": "stderr",
     "output_type": "stream",
     "text": [
      "                                                             \r"
     ]
    },
    {
     "name": "stdout",
     "output_type": "stream",
     "text": [
      "Train Loss: 0.0958, Validation Loss: 0.2106\n",
      "No improvement for 1 epoch(s).\n",
      "Epoch [32/200]\n"
     ]
    },
    {
     "name": "stderr",
     "output_type": "stream",
     "text": [
      "                                                             \r"
     ]
    },
    {
     "name": "stdout",
     "output_type": "stream",
     "text": [
      "Train Loss: 0.0954, Validation Loss: 0.2117\n",
      "No improvement for 2 epoch(s).\n",
      "Epoch [33/200]\n"
     ]
    },
    {
     "name": "stderr",
     "output_type": "stream",
     "text": [
      "                                                             \r"
     ]
    },
    {
     "name": "stdout",
     "output_type": "stream",
     "text": [
      "Train Loss: 0.0931, Validation Loss: 0.2098\n",
      "No improvement for 3 epoch(s).\n",
      "Epoch [34/200]\n"
     ]
    },
    {
     "name": "stderr",
     "output_type": "stream",
     "text": [
      "                                                             \r"
     ]
    },
    {
     "name": "stdout",
     "output_type": "stream",
     "text": [
      "Train Loss: 0.0921, Validation Loss: 0.2109\n",
      "No improvement for 4 epoch(s).\n",
      "Epoch [35/200]\n"
     ]
    },
    {
     "name": "stderr",
     "output_type": "stream",
     "text": [
      "                                                             \r"
     ]
    },
    {
     "name": "stdout",
     "output_type": "stream",
     "text": [
      "Train Loss: 0.0912, Validation Loss: 0.2116\n",
      "No improvement for 5 epoch(s).\n",
      "Epoch [36/200]\n"
     ]
    },
    {
     "name": "stderr",
     "output_type": "stream",
     "text": [
      "                                                             \r"
     ]
    },
    {
     "name": "stdout",
     "output_type": "stream",
     "text": [
      "Train Loss: 0.0920, Validation Loss: 0.2108\n",
      "No improvement for 6 epoch(s).\n",
      "Epoch [37/200]\n"
     ]
    },
    {
     "name": "stderr",
     "output_type": "stream",
     "text": [
      "                                                             \r"
     ]
    },
    {
     "name": "stdout",
     "output_type": "stream",
     "text": [
      "Train Loss: 0.0898, Validation Loss: 0.2101\n",
      "No improvement for 7 epoch(s).\n",
      "Epoch [38/200]\n"
     ]
    },
    {
     "name": "stderr",
     "output_type": "stream",
     "text": [
      "                                                             \r"
     ]
    },
    {
     "name": "stdout",
     "output_type": "stream",
     "text": [
      "Train Loss: 0.0902, Validation Loss: 0.2095\n",
      "Validation loss improved. Model saved to ../saved_models/best_model.pth\n",
      "Epoch [39/200]\n"
     ]
    },
    {
     "name": "stderr",
     "output_type": "stream",
     "text": [
      "                                                             \r"
     ]
    },
    {
     "name": "stdout",
     "output_type": "stream",
     "text": [
      "Train Loss: 0.0886, Validation Loss: 0.2112\n",
      "No improvement for 1 epoch(s).\n",
      "Epoch [40/200]\n"
     ]
    },
    {
     "name": "stderr",
     "output_type": "stream",
     "text": [
      "                                                             \r"
     ]
    },
    {
     "name": "stdout",
     "output_type": "stream",
     "text": [
      "Train Loss: 0.0880, Validation Loss: 0.2103\n",
      "No improvement for 2 epoch(s).\n",
      "Epoch [41/200]\n"
     ]
    },
    {
     "name": "stderr",
     "output_type": "stream",
     "text": [
      "                                                             \r"
     ]
    },
    {
     "name": "stdout",
     "output_type": "stream",
     "text": [
      "Train Loss: 0.0870, Validation Loss: 0.2101\n",
      "No improvement for 3 epoch(s).\n",
      "Epoch [42/200]\n"
     ]
    },
    {
     "name": "stderr",
     "output_type": "stream",
     "text": [
      "                                                             \r"
     ]
    },
    {
     "name": "stdout",
     "output_type": "stream",
     "text": [
      "Train Loss: 0.0870, Validation Loss: 0.2111\n",
      "No improvement for 4 epoch(s).\n",
      "Epoch [43/200]\n"
     ]
    },
    {
     "name": "stderr",
     "output_type": "stream",
     "text": [
      "                                                             \r"
     ]
    },
    {
     "name": "stdout",
     "output_type": "stream",
     "text": [
      "Train Loss: 0.0856, Validation Loss: 0.2122\n",
      "No improvement for 5 epoch(s).\n",
      "Epoch [44/200]\n"
     ]
    },
    {
     "name": "stderr",
     "output_type": "stream",
     "text": [
      "                                                             \r"
     ]
    },
    {
     "name": "stdout",
     "output_type": "stream",
     "text": [
      "Train Loss: 0.0869, Validation Loss: 0.2103\n",
      "No improvement for 6 epoch(s).\n",
      "Epoch [45/200]\n"
     ]
    },
    {
     "name": "stderr",
     "output_type": "stream",
     "text": [
      "                                                             \r"
     ]
    },
    {
     "name": "stdout",
     "output_type": "stream",
     "text": [
      "Train Loss: 0.0852, Validation Loss: 0.2121\n",
      "No improvement for 7 epoch(s).\n",
      "Epoch [46/200]\n"
     ]
    },
    {
     "name": "stderr",
     "output_type": "stream",
     "text": [
      "                                                             \r"
     ]
    },
    {
     "name": "stdout",
     "output_type": "stream",
     "text": [
      "Train Loss: 0.0850, Validation Loss: 0.2104\n",
      "No improvement for 8 epoch(s).\n",
      "Epoch [47/200]\n"
     ]
    },
    {
     "name": "stderr",
     "output_type": "stream",
     "text": [
      "                                                             \r"
     ]
    },
    {
     "name": "stdout",
     "output_type": "stream",
     "text": [
      "Train Loss: 0.0839, Validation Loss: 0.2106\n",
      "No improvement for 9 epoch(s).\n",
      "Epoch [48/200]\n"
     ]
    },
    {
     "name": "stderr",
     "output_type": "stream",
     "text": [
      "                                                             "
     ]
    },
    {
     "name": "stdout",
     "output_type": "stream",
     "text": [
      "Train Loss: 0.0840, Validation Loss: 0.2109\n",
      "No improvement for 10 epoch(s).\n",
      "Early stopping triggered after 10 epochs without improvement. Last epoch: 48\n",
      "Training complete. Best model saved at: ../saved_models/best_model.pth\n"
     ]
    },
    {
     "name": "stderr",
     "output_type": "stream",
     "text": [
      "\r"
     ]
    }
   ],
   "source": [
    "import torch\n",
    "from torch import nn\n",
    "from torch.optim import Adam\n",
    "from tqdm import tqdm\n",
    "import os\n",
    "import sys\n",
    "import numpy as np\n",
    "\n",
    "project_root = os.path.abspath(os.path.join(os.getcwd(), \"..\"))\n",
    "if project_root not in sys.path:\n",
    "    sys.path.append(project_root)\n",
    "\n",
    "# Импорт модели UNet из файла models/UNet.py\n",
    "from models.UNet import UNet\n",
    "from utils.helpers import *\n",
    "\n",
    "# Настройки\n",
    "DEVICE = torch.device(\"cuda\" if torch.cuda.is_available() else \"cpu\")\n",
    "EPOCHS = 200  # Количество эпох\n",
    "LEARNING_RATE = 1e-4  # Скорость обучения\n",
    "SAVE_MODEL_PATH = f\"{project_root}/saved_models\"  # Папка для сохранения модели\n",
    "\n",
    "# Убедимся, что папка для сохранения модели существует\n",
    "os.makedirs(SAVE_MODEL_PATH, exist_ok=True)\n",
    "\n",
    "# Инициализация модели, функции потерь и оптимизатора\n",
    "model = UNet(in_channels=1, output_channels=3).to(DEVICE)\n",
    "criterion = nn.L1Loss()  # L1 Loss\n",
    "optimizer = Adam(model.parameters(), lr=LEARNING_RATE)\n",
    "model.load_state_dict(torch.load('../saved_models/best_model.pth', map_location=DEVICE))\n",
    "\n",
    "# Функция для тренировки одной эпохи\n",
    "def train_one_epoch(loader, model, criterion, optimizer, device):\n",
    "    model.train()\n",
    "    epoch_loss = 0\n",
    "\n",
    "    for sar, optical in tqdm(loader, desc=\"Training\", leave=False):\n",
    "        sar, optical = sar.to(device), optical.to(device)\n",
    "\n",
    "        # Прямой проход\n",
    "        output = model(sar)\n",
    "\n",
    "        # Вычисление функции потерь\n",
    "        loss = criterion(output, optical)\n",
    "        epoch_loss += loss.item()\n",
    "\n",
    "        # Обратный проход\n",
    "        optimizer.zero_grad()\n",
    "        loss.backward()\n",
    "        optimizer.step()\n",
    "\n",
    "    return epoch_loss / len(loader)\n",
    "\n",
    "# Функция для валидации\n",
    "def validate(loader, model, criterion, device):\n",
    "    model.eval()\n",
    "    epoch_loss = 0\n",
    "\n",
    "    with torch.no_grad():\n",
    "        for sar, optical in tqdm(loader, desc=\"Validation\", leave=False):\n",
    "            sar, optical = sar.to(device), optical.to(device)\n",
    "\n",
    "            # Прямой проход\n",
    "            output = model(sar)\n",
    "\n",
    "            # Вычисление функции потерь\n",
    "            loss = criterion(output, optical)\n",
    "            epoch_loss += loss.item()\n",
    "\n",
    "    return epoch_loss / len(loader)\n",
    "\n",
    "# Основной цикл обучения\n",
    "def train_model(train_loader, test_loader, model, criterion, optimizer, epochs, device):\n",
    "    for epoch in range(epochs):\n",
    "        print(f\"Epoch [{epoch + 1}/{epochs}]\")\n",
    "\n",
    "        train_loss = train_one_epoch(train_loader, model, criterion, optimizer, device)\n",
    "        val_loss = validate(test_loader, model, criterion, device)\n",
    "\n",
    "        print(f\"Train Loss: {train_loss:.4f}, Validation Loss: {val_loss:.4f}\")\n",
    "\n",
    "        # Сохраняем модель после каждой эпохи\n",
    "        model_save_path = os.path.join(SAVE_MODEL_PATH, f\"unet_epoch_{epoch + 1}.pth\")\n",
    "        torch.save(model.state_dict(), model_save_path)\n",
    "        print(f\"Model saved to {model_save_path}\")\n",
    "\n",
    "def train_model_with_early_stopping(train_loader, test_loader, model, criterion, optimizer, epochs, device, patience=10):\n",
    "    best_val_loss = float(0.23165545669160312)  # Изначально лучшее значение — бесконечность\n",
    "    save_path = \"../saved_models/best_model.pth\"  # Путь для сохранения лучшей модели\n",
    "    no_improvement_epochs = 0  # Счётчик эпох без улучшения\n",
    "    train_losses = []\n",
    "    val_losses = []\n",
    "\n",
    "    for epoch in range(epochs):\n",
    "        print(f\"Epoch [{epoch + 1}/{epochs}]\")\n",
    "\n",
    "        # Тренировка\n",
    "        train_loss = train_one_epoch(train_loader, model, criterion, optimizer, device)\n",
    "        # Валидация\n",
    "        val_loss = validate(test_loader, model, criterion, device)\n",
    "        train_losses.append(train_loss)\n",
    "        val_losses.append(val_loss)\n",
    "        np.savez('losses.npz', train_losses=train_losses, val_losses=val_losses)\n",
    "\n",
    "        print(f\"Train Loss: {train_loss:.4f}, Validation Loss: {val_loss:.4f}\")\n",
    "\n",
    "        # Проверяем, улучшилась ли валидационная потеря\n",
    "        if val_loss < best_val_loss:\n",
    "            best_val_loss = val_loss\n",
    "            torch.save(model.state_dict(), save_path)\n",
    "            no_improvement_epochs = 0\n",
    "            print(f\"Validation loss improved. Model saved to {save_path}\")\n",
    "        else:\n",
    "            no_improvement_epochs += 1\n",
    "            print(f\"No improvement for {no_improvement_epochs} epoch(s).\")\n",
    "\n",
    "        # Проверяем условие ранней остановки\n",
    "        if no_improvement_epochs >= patience:\n",
    "            print(f\"Early stopping triggered after {patience} epochs without improvement. Last epoch: {epoch + 1}\")\n",
    "            break\n",
    "\n",
    "    print(f\"Training complete. Best model saved at: {save_path}\")\n",
    "\n",
    "\n",
    "# Запуск тренировки\n",
    "if __name__ == \"__main__\":\n",
    "    train_model_with_early_stopping(train_loader, test_loader, model, criterion, optimizer, EPOCHS, DEVICE)\n"
   ]
  },
  {
   "cell_type": "code",
   "execution_count": null,
   "metadata": {},
   "outputs": [],
   "source": []
  }
 ],
 "metadata": {
  "kernelspec": {
   "display_name": "Python 3",
   "language": "python",
   "name": "python3"
  },
  "language_info": {
   "codemirror_mode": {
    "name": "ipython",
    "version": 3
   },
   "file_extension": ".py",
   "mimetype": "text/x-python",
   "name": "python",
   "nbconvert_exporter": "python",
   "pygments_lexer": "ipython3",
   "version": "3.9.13"
  }
 },
 "nbformat": 4,
 "nbformat_minor": 2
}
