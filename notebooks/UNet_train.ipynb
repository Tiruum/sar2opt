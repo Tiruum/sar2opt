{
 "cells": [
  {
   "cell_type": "code",
   "execution_count": null,
   "metadata": {},
   "outputs": [
    {
     "name": "stdout",
     "output_type": "stream",
     "text": [
      "Epoch [1/200]\n"
     ]
    },
    {
     "name": "stderr",
     "output_type": "stream",
     "text": [
      "                                                           \r"
     ]
    },
    {
     "name": "stdout",
     "output_type": "stream",
     "text": [
      "Train Loss: 0.2744, Validation Loss: 0.2689\n",
      "Validation loss improved. Model saved to ../saved_models/best_model.pth\n",
      "Epoch [2/200]\n"
     ]
    },
    {
     "name": "stderr",
     "output_type": "stream",
     "text": [
      "                                                           \r"
     ]
    },
    {
     "name": "stdout",
     "output_type": "stream",
     "text": [
      "Train Loss: 0.2610, Validation Loss: 0.2632\n",
      "Validation loss improved. Model saved to ../saved_models/best_model.pth\n",
      "Epoch [3/200]\n"
     ]
    },
    {
     "name": "stderr",
     "output_type": "stream",
     "text": [
      "                                                           \r"
     ]
    },
    {
     "name": "stdout",
     "output_type": "stream",
     "text": [
      "Train Loss: 0.2562, Validation Loss: 0.2680\n",
      "No improvement for 1 epoch(s).\n",
      "Epoch [4/200]\n"
     ]
    },
    {
     "name": "stderr",
     "output_type": "stream",
     "text": [
      "                                                           \r"
     ]
    },
    {
     "name": "stdout",
     "output_type": "stream",
     "text": [
      "Train Loss: 0.2538, Validation Loss: 0.2565\n",
      "Validation loss improved. Model saved to ../saved_models/best_model.pth\n",
      "Epoch [5/200]\n"
     ]
    },
    {
     "name": "stderr",
     "output_type": "stream",
     "text": [
      "                                                           \r"
     ]
    },
    {
     "name": "stdout",
     "output_type": "stream",
     "text": [
      "Train Loss: 0.2488, Validation Loss: 0.2530\n",
      "Validation loss improved. Model saved to ../saved_models/best_model.pth\n",
      "Epoch [6/200]\n"
     ]
    },
    {
     "name": "stderr",
     "output_type": "stream",
     "text": [
      "                                                           \r"
     ]
    },
    {
     "name": "stdout",
     "output_type": "stream",
     "text": [
      "Train Loss: 0.2506, Validation Loss: 0.2615\n",
      "No improvement for 1 epoch(s).\n",
      "Epoch [7/200]\n"
     ]
    },
    {
     "name": "stderr",
     "output_type": "stream",
     "text": [
      "                                                           \r"
     ]
    },
    {
     "name": "stdout",
     "output_type": "stream",
     "text": [
      "Train Loss: 0.2441, Validation Loss: 0.2579\n",
      "No improvement for 2 epoch(s).\n",
      "Epoch [8/200]\n"
     ]
    },
    {
     "name": "stderr",
     "output_type": "stream",
     "text": [
      "                                                           \r"
     ]
    },
    {
     "name": "stdout",
     "output_type": "stream",
     "text": [
      "Train Loss: 0.2430, Validation Loss: 0.2502\n",
      "Validation loss improved. Model saved to ../saved_models/best_model.pth\n",
      "Epoch [9/200]\n"
     ]
    },
    {
     "name": "stderr",
     "output_type": "stream",
     "text": [
      "Training:  87%|████████▋ | 159/182 [02:29<00:21,  1.06it/s]"
     ]
    }
   ],
   "source": [
    "import torch\n",
    "from torch import nn\n",
    "from torch.optim import Adam\n",
    "from tqdm import tqdm\n",
    "import os\n",
    "import sys\n",
    "import numpy as np\n",
    "\n",
    "project_root = os.path.abspath(os.path.join(os.getcwd(), \"..\"))\n",
    "if project_root not in sys.path:\n",
    "    sys.path.append(project_root)\n",
    "\n",
    "# Импорт модели UNet из файла models/UNet.py\n",
    "from models.UNet import UNet\n",
    "from utils.helpers import *\n",
    "\n",
    "# Настройки\n",
    "DEVICE = torch.device(\"cuda\" if torch.cuda.is_available() else \"cpu\")\n",
    "EPOCHS = 200  # Количество эпох\n",
    "LEARNING_RATE = 1e-4  # Скорость обучения\n",
    "SAVE_MODEL_PATH = f\"{project_root}/saved_models\"  # Папка для сохранения модели\n",
    "\n",
    "# Убедимся, что папка для сохранения модели существует\n",
    "os.makedirs(SAVE_MODEL_PATH, exist_ok=True)\n",
    "\n",
    "# Инициализация модели, функции потерь и оптимизатора\n",
    "model = UNet(in_channels=1, output_channels=3).to(DEVICE)\n",
    "criterion = nn.L1Loss()  # L1 Loss\n",
    "optimizer = Adam(model.parameters(), lr=LEARNING_RATE)\n",
    "\n",
    "# Функция для тренировки одной эпохи\n",
    "def train_one_epoch(loader, model, criterion, optimizer, device):\n",
    "    model.train()\n",
    "    epoch_loss = 0\n",
    "\n",
    "    for sar, optical in tqdm(loader, desc=\"Training\", leave=False):\n",
    "        sar, optical = sar.to(device), optical.to(device)\n",
    "\n",
    "        # Прямой проход\n",
    "        output = model(sar)\n",
    "\n",
    "        # Вычисление функции потерь\n",
    "        loss = criterion(output, optical)\n",
    "        epoch_loss += loss.item()\n",
    "\n",
    "        # Обратный проход\n",
    "        optimizer.zero_grad()\n",
    "        loss.backward()\n",
    "        optimizer.step()\n",
    "\n",
    "    return epoch_loss / len(loader)\n",
    "\n",
    "# Функция для валидации\n",
    "def validate(loader, model, criterion, device):\n",
    "    model.eval()\n",
    "    epoch_loss = 0\n",
    "\n",
    "    with torch.no_grad():\n",
    "        for sar, optical in tqdm(loader, desc=\"Validation\", leave=False):\n",
    "            sar, optical = sar.to(device), optical.to(device)\n",
    "\n",
    "            # Прямой проход\n",
    "            output = model(sar)\n",
    "\n",
    "            # Вычисление функции потерь\n",
    "            loss = criterion(output, optical)\n",
    "            epoch_loss += loss.item()\n",
    "\n",
    "    return epoch_loss / len(loader)\n",
    "\n",
    "# Основной цикл обучения\n",
    "def train_model(train_loader, test_loader, model, criterion, optimizer, epochs, device):\n",
    "    for epoch in range(epochs):\n",
    "        print(f\"Epoch [{epoch + 1}/{epochs}]\")\n",
    "\n",
    "        train_loss = train_one_epoch(train_loader, model, criterion, optimizer, device)\n",
    "        val_loss = validate(test_loader, model, criterion, device)\n",
    "\n",
    "        print(f\"Train Loss: {train_loss:.4f}, Validation Loss: {val_loss:.4f}\")\n",
    "\n",
    "        # Сохраняем модель после каждой эпохи\n",
    "        model_save_path = os.path.join(SAVE_MODEL_PATH, f\"unet_epoch_{epoch + 1}.pth\")\n",
    "        torch.save(model.state_dict(), model_save_path)\n",
    "        print(f\"Model saved to {model_save_path}\")\n",
    "\n",
    "def train_model_with_early_stopping(train_loader, test_loader, model, criterion, optimizer, epochs, device, patience=10):\n",
    "    best_val_loss = float(\"inf\")  # Изначально лучшее значение — бесконечность\n",
    "    save_path = \"../saved_models/best_model.pth\"  # Путь для сохранения лучшей модели\n",
    "    no_improvement_epochs = 0  # Счётчик эпох без улучшения\n",
    "    train_losses = []\n",
    "    val_losses = []\n",
    "\n",
    "    for epoch in range(epochs):\n",
    "        print(f\"Epoch [{epoch + 1}/{epochs}]\")\n",
    "\n",
    "        # Тренировка\n",
    "        train_loss = train_one_epoch(train_loader, model, criterion, optimizer, device)\n",
    "        # Валидация\n",
    "        val_loss = validate(test_loader, model, criterion, device)\n",
    "        train_losses.append(train_loss)\n",
    "        val_losses.append(val_loss)\n",
    "        np.savez('losses.npz', train_losses=train_losses, val_losses=val_losses)\n",
    "\n",
    "        print(f\"Train Loss: {train_loss:.4f}, Validation Loss: {val_loss:.4f}\")\n",
    "\n",
    "        # Проверяем, улучшилась ли валидационная потеря\n",
    "        if val_loss < best_val_loss:\n",
    "            best_val_loss = val_loss\n",
    "            torch.save(model.state_dict(), save_path)\n",
    "            no_improvement_epochs = 0\n",
    "            print(f\"Validation loss improved. Model saved to {save_path}\")\n",
    "        else:\n",
    "            no_improvement_epochs += 1\n",
    "            print(f\"No improvement for {no_improvement_epochs} epoch(s).\")\n",
    "\n",
    "        # Проверяем условие ранней остановки\n",
    "        if no_improvement_epochs >= patience:\n",
    "            print(f\"Early stopping triggered after {patience} epochs without improvement. Last epoch: {epoch + 1}\")\n",
    "            break\n",
    "\n",
    "    print(f\"Training complete. Best model saved at: {save_path}\")\n",
    "\n",
    "\n",
    "# Запуск тренировки\n",
    "if __name__ == \"__main__\":\n",
    "    train_model_with_early_stopping(train_loader, test_loader, model, criterion, optimizer, EPOCHS, DEVICE)\n"
   ]
  },
  {
   "cell_type": "code",
   "execution_count": null,
   "metadata": {},
   "outputs": [],
   "source": []
  }
 ],
 "metadata": {
  "kernelspec": {
   "display_name": "Python 3",
   "language": "python",
   "name": "python3"
  },
  "language_info": {
   "codemirror_mode": {
    "name": "ipython",
    "version": 3
   },
   "file_extension": ".py",
   "mimetype": "text/x-python",
   "name": "python",
   "nbconvert_exporter": "python",
   "pygments_lexer": "ipython3",
   "version": "3.9.13"
  }
 },
 "nbformat": 4,
 "nbformat_minor": 2
}
