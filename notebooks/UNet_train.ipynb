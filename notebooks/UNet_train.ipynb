{
 "cells": [
  {
   "cell_type": "code",
   "execution_count": 1,
   "metadata": {},
   "outputs": [
    {
     "name": "stderr",
     "output_type": "stream",
     "text": [
      "C:\\Users\\tiruu\\AppData\\Local\\Temp\\ipykernel_18316\\3225277814.py:89: FutureWarning: You are using `torch.load` with `weights_only=False` (the current default value), which uses the default pickle module implicitly. It is possible to construct malicious pickle data which will execute arbitrary code during unpickling (See https://github.com/pytorch/pytorch/blob/main/SECURITY.md#untrusted-models for more details). In a future release, the default value for `weights_only` will be flipped to `True`. This limits the functions that could be executed during unpickling. Arbitrary objects will no longer be allowed to be loaded via this mode unless they are explicitly allowlisted by the user via `torch.serialization.add_safe_globals`. We recommend you start setting `weights_only=True` for any use case where you don't have full control of the loaded file. Please open an issue on GitHub for any issues related to this experimental feature.\n",
      "  model.load_state_dict(torch.load(save_path, map_location=DEVICE))\n"
     ]
    },
    {
     "name": "stdout",
     "output_type": "stream",
     "text": [
      "Epoch [38/200]\n"
     ]
    },
    {
     "name": "stderr",
     "output_type": "stream",
     "text": [
      "                                                           \r"
     ]
    },
    {
     "name": "stdout",
     "output_type": "stream",
     "text": [
      "Train Loss: 0.2632, Validation Loss: 0.3114\n",
      "Validation loss improved. Model saved to ../saved_models/best_model.pth\n",
      "Epoch [39/200]\n"
     ]
    },
    {
     "name": "stderr",
     "output_type": "stream",
     "text": [
      "                                                           \r"
     ]
    },
    {
     "name": "stdout",
     "output_type": "stream",
     "text": [
      "Train Loss: 0.2616, Validation Loss: 0.3121\n",
      "No improvement for 1 epoch(s).\n",
      "Epoch [40/200]\n"
     ]
    },
    {
     "name": "stderr",
     "output_type": "stream",
     "text": [
      "                                                           \r"
     ]
    },
    {
     "name": "stdout",
     "output_type": "stream",
     "text": [
      "Train Loss: 0.2620, Validation Loss: 0.3057\n",
      "Validation loss improved. Model saved to ../saved_models/best_model.pth\n",
      "Epoch [41/200]\n"
     ]
    },
    {
     "name": "stderr",
     "output_type": "stream",
     "text": [
      "                                                           \r"
     ]
    },
    {
     "name": "stdout",
     "output_type": "stream",
     "text": [
      "Train Loss: 0.2644, Validation Loss: 0.3139\n",
      "No improvement for 1 epoch(s).\n",
      "Epoch [42/200]\n"
     ]
    },
    {
     "name": "stderr",
     "output_type": "stream",
     "text": [
      "                                                           \r"
     ]
    },
    {
     "name": "stdout",
     "output_type": "stream",
     "text": [
      "Train Loss: 0.2612, Validation Loss: 0.3021\n",
      "Validation loss improved. Model saved to ../saved_models/best_model.pth\n",
      "Epoch [43/200]\n"
     ]
    },
    {
     "name": "stderr",
     "output_type": "stream",
     "text": [
      "                                                           \r"
     ]
    },
    {
     "name": "stdout",
     "output_type": "stream",
     "text": [
      "Train Loss: 0.2601, Validation Loss: 0.3070\n",
      "No improvement for 1 epoch(s).\n",
      "Epoch [44/200]\n"
     ]
    },
    {
     "name": "stderr",
     "output_type": "stream",
     "text": [
      "                                                           \r"
     ]
    },
    {
     "name": "stdout",
     "output_type": "stream",
     "text": [
      "Train Loss: 0.2619, Validation Loss: 0.3014\n",
      "Validation loss improved. Model saved to ../saved_models/best_model.pth\n",
      "Epoch [45/200]\n"
     ]
    },
    {
     "name": "stderr",
     "output_type": "stream",
     "text": [
      "                                                           \r"
     ]
    },
    {
     "name": "stdout",
     "output_type": "stream",
     "text": [
      "Train Loss: 0.2608, Validation Loss: 0.3045\n",
      "No improvement for 1 epoch(s).\n",
      "Epoch [46/200]\n"
     ]
    },
    {
     "name": "stderr",
     "output_type": "stream",
     "text": [
      "                                                           \r"
     ]
    },
    {
     "name": "stdout",
     "output_type": "stream",
     "text": [
      "Train Loss: 0.2612, Validation Loss: 0.3049\n",
      "No improvement for 2 epoch(s).\n",
      "Epoch [47/200]\n"
     ]
    },
    {
     "name": "stderr",
     "output_type": "stream",
     "text": [
      "                                                           \r"
     ]
    },
    {
     "name": "stdout",
     "output_type": "stream",
     "text": [
      "Train Loss: 0.2598, Validation Loss: 0.2998\n",
      "Validation loss improved. Model saved to ../saved_models/best_model.pth\n",
      "Epoch [48/200]\n"
     ]
    },
    {
     "name": "stderr",
     "output_type": "stream",
     "text": [
      "                                                           \r"
     ]
    },
    {
     "name": "stdout",
     "output_type": "stream",
     "text": [
      "Train Loss: 0.2624, Validation Loss: 0.3088\n",
      "No improvement for 1 epoch(s).\n",
      "Epoch [49/200]\n"
     ]
    },
    {
     "name": "stderr",
     "output_type": "stream",
     "text": [
      "                                                           \r"
     ]
    },
    {
     "name": "stdout",
     "output_type": "stream",
     "text": [
      "Train Loss: 0.2592, Validation Loss: 0.3078\n",
      "No improvement for 2 epoch(s).\n",
      "Epoch [50/200]\n"
     ]
    },
    {
     "name": "stderr",
     "output_type": "stream",
     "text": [
      "                                                           \r"
     ]
    },
    {
     "name": "stdout",
     "output_type": "stream",
     "text": [
      "Train Loss: 0.2586, Validation Loss: 0.3060\n",
      "No improvement for 3 epoch(s).\n",
      "Epoch [51/200]\n"
     ]
    },
    {
     "name": "stderr",
     "output_type": "stream",
     "text": [
      "                                                           \r"
     ]
    },
    {
     "name": "stdout",
     "output_type": "stream",
     "text": [
      "Train Loss: 0.2598, Validation Loss: 0.3039\n",
      "No improvement for 4 epoch(s).\n",
      "Epoch [52/200]\n"
     ]
    },
    {
     "name": "stderr",
     "output_type": "stream",
     "text": [
      "                                                           \r"
     ]
    },
    {
     "name": "stdout",
     "output_type": "stream",
     "text": [
      "Train Loss: 0.2621, Validation Loss: 0.3094\n",
      "No improvement for 5 epoch(s).\n",
      "Epoch [53/200]\n"
     ]
    },
    {
     "name": "stderr",
     "output_type": "stream",
     "text": [
      "                                                           \r"
     ]
    },
    {
     "name": "stdout",
     "output_type": "stream",
     "text": [
      "Train Loss: 0.2591, Validation Loss: 0.3132\n",
      "No improvement for 6 epoch(s).\n",
      "Epoch [54/200]\n"
     ]
    },
    {
     "name": "stderr",
     "output_type": "stream",
     "text": [
      "                                                           \r"
     ]
    },
    {
     "name": "stdout",
     "output_type": "stream",
     "text": [
      "Train Loss: 0.2556, Validation Loss: 0.3126\n",
      "No improvement for 7 epoch(s).\n",
      "Epoch [55/200]\n"
     ]
    },
    {
     "name": "stderr",
     "output_type": "stream",
     "text": [
      "                                                           \r"
     ]
    },
    {
     "name": "stdout",
     "output_type": "stream",
     "text": [
      "Train Loss: 0.2611, Validation Loss: 0.3058\n",
      "No improvement for 8 epoch(s).\n",
      "Epoch [56/200]\n"
     ]
    },
    {
     "name": "stderr",
     "output_type": "stream",
     "text": [
      "                                                           \r"
     ]
    },
    {
     "name": "stdout",
     "output_type": "stream",
     "text": [
      "Train Loss: 0.2583, Validation Loss: 0.3086\n",
      "No improvement for 9 epoch(s).\n",
      "Epoch [57/200]\n"
     ]
    },
    {
     "name": "stderr",
     "output_type": "stream",
     "text": [
      "                                                           \r"
     ]
    },
    {
     "name": "stdout",
     "output_type": "stream",
     "text": [
      "Train Loss: 0.2615, Validation Loss: 0.3011\n",
      "No improvement for 10 epoch(s).\n",
      "Epoch [58/200]\n"
     ]
    },
    {
     "name": "stderr",
     "output_type": "stream",
     "text": [
      "                                                           \r"
     ]
    },
    {
     "name": "stdout",
     "output_type": "stream",
     "text": [
      "Train Loss: 0.2577, Validation Loss: 0.3687\n",
      "No improvement for 11 epoch(s).\n",
      "Epoch [59/200]\n"
     ]
    },
    {
     "name": "stderr",
     "output_type": "stream",
     "text": [
      "                                                           \r"
     ]
    },
    {
     "name": "stdout",
     "output_type": "stream",
     "text": [
      "Train Loss: 0.2567, Validation Loss: 0.2979\n",
      "Validation loss improved. Model saved to ../saved_models/best_model.pth\n",
      "Epoch [60/200]\n"
     ]
    },
    {
     "name": "stderr",
     "output_type": "stream",
     "text": [
      "                                                           \r"
     ]
    },
    {
     "name": "stdout",
     "output_type": "stream",
     "text": [
      "Train Loss: 0.2592, Validation Loss: 0.3187\n",
      "No improvement for 1 epoch(s).\n",
      "Epoch [61/200]\n"
     ]
    },
    {
     "name": "stderr",
     "output_type": "stream",
     "text": [
      "                                                           \r"
     ]
    },
    {
     "name": "stdout",
     "output_type": "stream",
     "text": [
      "Train Loss: 0.2563, Validation Loss: 0.3024\n",
      "No improvement for 2 epoch(s).\n",
      "Epoch [62/200]\n"
     ]
    },
    {
     "name": "stderr",
     "output_type": "stream",
     "text": [
      "                                                           \r"
     ]
    },
    {
     "name": "stdout",
     "output_type": "stream",
     "text": [
      "Train Loss: 0.2565, Validation Loss: 0.3179\n",
      "No improvement for 3 epoch(s).\n",
      "Epoch [63/200]\n"
     ]
    },
    {
     "name": "stderr",
     "output_type": "stream",
     "text": [
      "                                                           \r"
     ]
    },
    {
     "name": "stdout",
     "output_type": "stream",
     "text": [
      "Train Loss: 0.2595, Validation Loss: 0.3173\n",
      "No improvement for 4 epoch(s).\n",
      "Epoch [64/200]\n"
     ]
    },
    {
     "name": "stderr",
     "output_type": "stream",
     "text": [
      "                                                           \r"
     ]
    },
    {
     "name": "stdout",
     "output_type": "stream",
     "text": [
      "Train Loss: 0.2565, Validation Loss: 0.3035\n",
      "No improvement for 5 epoch(s).\n",
      "Epoch [65/200]\n"
     ]
    },
    {
     "name": "stderr",
     "output_type": "stream",
     "text": [
      "                                                           \r"
     ]
    },
    {
     "name": "stdout",
     "output_type": "stream",
     "text": [
      "Train Loss: 0.2582, Validation Loss: 0.3016\n",
      "No improvement for 6 epoch(s).\n",
      "Epoch [66/200]\n"
     ]
    },
    {
     "name": "stderr",
     "output_type": "stream",
     "text": [
      "                                                           \r"
     ]
    },
    {
     "name": "stdout",
     "output_type": "stream",
     "text": [
      "Train Loss: 0.2556, Validation Loss: 0.3024\n",
      "No improvement for 7 epoch(s).\n",
      "Epoch [67/200]\n"
     ]
    },
    {
     "name": "stderr",
     "output_type": "stream",
     "text": [
      "                                                           \r"
     ]
    },
    {
     "name": "stdout",
     "output_type": "stream",
     "text": [
      "Train Loss: 0.2574, Validation Loss: 0.3098\n",
      "No improvement for 8 epoch(s).\n",
      "Epoch [68/200]\n"
     ]
    },
    {
     "name": "stderr",
     "output_type": "stream",
     "text": [
      "                                                           \r"
     ]
    },
    {
     "name": "stdout",
     "output_type": "stream",
     "text": [
      "Train Loss: 0.2557, Validation Loss: 0.2975\n",
      "Validation loss improved. Model saved to ../saved_models/best_model.pth\n",
      "Epoch [69/200]\n"
     ]
    },
    {
     "name": "stderr",
     "output_type": "stream",
     "text": [
      "                                                           \r"
     ]
    },
    {
     "name": "stdout",
     "output_type": "stream",
     "text": [
      "Train Loss: 0.2563, Validation Loss: 0.3068\n",
      "No improvement for 1 epoch(s).\n",
      "Epoch [70/200]\n"
     ]
    },
    {
     "name": "stderr",
     "output_type": "stream",
     "text": [
      "                                                           \r"
     ]
    },
    {
     "name": "stdout",
     "output_type": "stream",
     "text": [
      "Train Loss: 0.2550, Validation Loss: 0.3047\n",
      "No improvement for 2 epoch(s).\n",
      "Epoch [71/200]\n"
     ]
    },
    {
     "name": "stderr",
     "output_type": "stream",
     "text": [
      "                                                           \r"
     ]
    },
    {
     "name": "stdout",
     "output_type": "stream",
     "text": [
      "Train Loss: 0.2547, Validation Loss: 0.3092\n",
      "No improvement for 3 epoch(s).\n",
      "Epoch [72/200]\n"
     ]
    },
    {
     "name": "stderr",
     "output_type": "stream",
     "text": [
      "                                                           \r"
     ]
    },
    {
     "name": "stdout",
     "output_type": "stream",
     "text": [
      "Train Loss: 0.2570, Validation Loss: 0.2940\n",
      "Validation loss improved. Model saved to ../saved_models/best_model.pth\n",
      "Epoch [73/200]\n"
     ]
    },
    {
     "name": "stderr",
     "output_type": "stream",
     "text": [
      "                                                           \r"
     ]
    },
    {
     "name": "stdout",
     "output_type": "stream",
     "text": [
      "Train Loss: 0.2562, Validation Loss: 0.2948\n",
      "No improvement for 1 epoch(s).\n",
      "Epoch [74/200]\n"
     ]
    },
    {
     "name": "stderr",
     "output_type": "stream",
     "text": [
      "                                                           \r"
     ]
    },
    {
     "name": "stdout",
     "output_type": "stream",
     "text": [
      "Train Loss: 0.2549, Validation Loss: 0.3018\n",
      "No improvement for 2 epoch(s).\n",
      "Epoch [75/200]\n"
     ]
    },
    {
     "name": "stderr",
     "output_type": "stream",
     "text": [
      "                                                           \r"
     ]
    },
    {
     "name": "stdout",
     "output_type": "stream",
     "text": [
      "Train Loss: 0.2556, Validation Loss: 0.2954\n",
      "No improvement for 3 epoch(s).\n",
      "Epoch [76/200]\n"
     ]
    },
    {
     "name": "stderr",
     "output_type": "stream",
     "text": [
      "                                                           \r"
     ]
    },
    {
     "name": "stdout",
     "output_type": "stream",
     "text": [
      "Train Loss: 0.2538, Validation Loss: 0.3119\n",
      "No improvement for 4 epoch(s).\n",
      "Epoch [77/200]\n"
     ]
    },
    {
     "name": "stderr",
     "output_type": "stream",
     "text": [
      "                                                           \r"
     ]
    },
    {
     "name": "stdout",
     "output_type": "stream",
     "text": [
      "Train Loss: 0.2519, Validation Loss: 0.3044\n",
      "No improvement for 5 epoch(s).\n",
      "Epoch [78/200]\n"
     ]
    },
    {
     "name": "stderr",
     "output_type": "stream",
     "text": [
      "                                                           \r"
     ]
    },
    {
     "name": "stdout",
     "output_type": "stream",
     "text": [
      "Train Loss: 0.2554, Validation Loss: 0.3060\n",
      "No improvement for 6 epoch(s).\n",
      "Epoch [79/200]\n"
     ]
    },
    {
     "name": "stderr",
     "output_type": "stream",
     "text": [
      "                                                           \r"
     ]
    },
    {
     "name": "stdout",
     "output_type": "stream",
     "text": [
      "Train Loss: 0.2530, Validation Loss: 0.3051\n",
      "No improvement for 7 epoch(s).\n",
      "Epoch [80/200]\n"
     ]
    },
    {
     "name": "stderr",
     "output_type": "stream",
     "text": [
      "                                                           \r"
     ]
    },
    {
     "name": "stdout",
     "output_type": "stream",
     "text": [
      "Train Loss: 0.2542, Validation Loss: 0.3102\n",
      "No improvement for 8 epoch(s).\n",
      "Epoch [81/200]\n"
     ]
    },
    {
     "name": "stderr",
     "output_type": "stream",
     "text": [
      "                                                           \r"
     ]
    },
    {
     "name": "stdout",
     "output_type": "stream",
     "text": [
      "Train Loss: 0.2553, Validation Loss: 0.3066\n",
      "No improvement for 9 epoch(s).\n",
      "Epoch [82/200]\n"
     ]
    },
    {
     "name": "stderr",
     "output_type": "stream",
     "text": [
      "                                                           \r"
     ]
    },
    {
     "name": "stdout",
     "output_type": "stream",
     "text": [
      "Train Loss: 0.2554, Validation Loss: 0.3140\n",
      "No improvement for 10 epoch(s).\n",
      "Epoch [83/200]\n"
     ]
    },
    {
     "name": "stderr",
     "output_type": "stream",
     "text": [
      "                                                           \r"
     ]
    },
    {
     "name": "stdout",
     "output_type": "stream",
     "text": [
      "Train Loss: 0.2535, Validation Loss: 0.3079\n",
      "No improvement for 11 epoch(s).\n",
      "Epoch [84/200]\n"
     ]
    },
    {
     "name": "stderr",
     "output_type": "stream",
     "text": [
      "                                                           \r"
     ]
    },
    {
     "name": "stdout",
     "output_type": "stream",
     "text": [
      "Train Loss: 0.2513, Validation Loss: 0.3132\n",
      "No improvement for 12 epoch(s).\n",
      "Epoch [85/200]\n"
     ]
    },
    {
     "name": "stderr",
     "output_type": "stream",
     "text": [
      "                                                           \r"
     ]
    },
    {
     "name": "stdout",
     "output_type": "stream",
     "text": [
      "Train Loss: 0.2521, Validation Loss: 0.3120\n",
      "No improvement for 13 epoch(s).\n",
      "Epoch [86/200]\n"
     ]
    },
    {
     "name": "stderr",
     "output_type": "stream",
     "text": [
      "                                                           \r"
     ]
    },
    {
     "name": "stdout",
     "output_type": "stream",
     "text": [
      "Train Loss: 0.2532, Validation Loss: 0.3106\n",
      "No improvement for 14 epoch(s).\n",
      "Epoch [87/200]\n"
     ]
    },
    {
     "name": "stderr",
     "output_type": "stream",
     "text": [
      "                                                           \r"
     ]
    },
    {
     "name": "stdout",
     "output_type": "stream",
     "text": [
      "Train Loss: 0.2530, Validation Loss: 0.2975\n",
      "No improvement for 15 epoch(s).\n",
      "Epoch [88/200]\n"
     ]
    },
    {
     "name": "stderr",
     "output_type": "stream",
     "text": [
      "                                                           \r"
     ]
    },
    {
     "name": "stdout",
     "output_type": "stream",
     "text": [
      "Train Loss: 0.2537, Validation Loss: 0.3184\n",
      "No improvement for 16 epoch(s).\n",
      "Epoch [89/200]\n"
     ]
    },
    {
     "name": "stderr",
     "output_type": "stream",
     "text": [
      "                                                           \r"
     ]
    },
    {
     "name": "stdout",
     "output_type": "stream",
     "text": [
      "Train Loss: 0.2544, Validation Loss: 0.2991\n",
      "No improvement for 17 epoch(s).\n",
      "Epoch [90/200]\n"
     ]
    },
    {
     "name": "stderr",
     "output_type": "stream",
     "text": [
      "                                                           \r"
     ]
    },
    {
     "name": "stdout",
     "output_type": "stream",
     "text": [
      "Train Loss: 0.2547, Validation Loss: 0.2980\n",
      "No improvement for 18 epoch(s).\n",
      "Epoch [91/200]\n"
     ]
    },
    {
     "name": "stderr",
     "output_type": "stream",
     "text": [
      "                                                           \r"
     ]
    },
    {
     "name": "stdout",
     "output_type": "stream",
     "text": [
      "Train Loss: 0.2512, Validation Loss: 0.3416\n",
      "No improvement for 19 epoch(s).\n",
      "Epoch [92/200]\n"
     ]
    },
    {
     "name": "stderr",
     "output_type": "stream",
     "text": [
      "                                                           \r"
     ]
    },
    {
     "name": "stdout",
     "output_type": "stream",
     "text": [
      "Train Loss: 0.2512, Validation Loss: 0.3021\n",
      "No improvement for 20 epoch(s).\n",
      "Epoch [93/200]\n"
     ]
    },
    {
     "name": "stderr",
     "output_type": "stream",
     "text": [
      "                                                           \r"
     ]
    },
    {
     "name": "stdout",
     "output_type": "stream",
     "text": [
      "Train Loss: 0.2515, Validation Loss: 0.2921\n",
      "Validation loss improved. Model saved to ../saved_models/best_model.pth\n",
      "Epoch [94/200]\n"
     ]
    },
    {
     "name": "stderr",
     "output_type": "stream",
     "text": [
      "                                                           \r"
     ]
    },
    {
     "name": "stdout",
     "output_type": "stream",
     "text": [
      "Train Loss: 0.2495, Validation Loss: 0.2965\n",
      "No improvement for 1 epoch(s).\n",
      "Epoch [95/200]\n"
     ]
    },
    {
     "name": "stderr",
     "output_type": "stream",
     "text": [
      "                                                           \r"
     ]
    },
    {
     "name": "stdout",
     "output_type": "stream",
     "text": [
      "Train Loss: 0.2538, Validation Loss: 0.3006\n",
      "No improvement for 2 epoch(s).\n",
      "Epoch [96/200]\n"
     ]
    },
    {
     "name": "stderr",
     "output_type": "stream",
     "text": [
      "                                                           \r"
     ]
    },
    {
     "name": "stdout",
     "output_type": "stream",
     "text": [
      "Train Loss: 0.2503, Validation Loss: 0.3061\n",
      "No improvement for 3 epoch(s).\n",
      "Epoch [97/200]\n"
     ]
    },
    {
     "name": "stderr",
     "output_type": "stream",
     "text": [
      "                                                          \r"
     ]
    },
    {
     "ename": "KeyboardInterrupt",
     "evalue": "",
     "output_type": "error",
     "traceback": [
      "\u001b[1;31m---------------------------------------------------------------------------\u001b[0m",
      "\u001b[1;31mKeyboardInterrupt\u001b[0m                         Traceback (most recent call last)",
      "Cell \u001b[1;32mIn[1], line 127\u001b[0m\n\u001b[0;32m    125\u001b[0m \u001b[38;5;66;03m# Запуск тренировки\u001b[39;00m\n\u001b[0;32m    126\u001b[0m \u001b[38;5;28;01mif\u001b[39;00m \u001b[38;5;18m__name__\u001b[39m \u001b[38;5;241m==\u001b[39m \u001b[38;5;124m\"\u001b[39m\u001b[38;5;124m__main__\u001b[39m\u001b[38;5;124m\"\u001b[39m:\n\u001b[1;32m--> 127\u001b[0m     \u001b[43mtrain_model_with_early_stopping\u001b[49m\u001b[43m(\u001b[49m\u001b[43mtrain_loader\u001b[49m\u001b[43m,\u001b[49m\u001b[43m \u001b[49m\u001b[43mtest_loader\u001b[49m\u001b[43m,\u001b[49m\u001b[43m \u001b[49m\u001b[43mmodel\u001b[49m\u001b[43m,\u001b[49m\u001b[43m \u001b[49m\u001b[43mcriterion\u001b[49m\u001b[43m,\u001b[49m\u001b[43m \u001b[49m\u001b[43moptimizer\u001b[49m\u001b[43m,\u001b[49m\u001b[43m \u001b[49m\u001b[43mEPOCHS\u001b[49m\u001b[43m,\u001b[49m\u001b[43m \u001b[49m\u001b[43mDEVICE\u001b[49m\u001b[43m)\u001b[49m\n",
      "Cell \u001b[1;32mIn[1], line 98\u001b[0m, in \u001b[0;36mtrain_model_with_early_stopping\u001b[1;34m(train_loader, test_loader, model, criterion, optimizer, epochs, device, patience)\u001b[0m\n\u001b[0;32m     95\u001b[0m \u001b[38;5;28mprint\u001b[39m(\u001b[38;5;124mf\u001b[39m\u001b[38;5;124m\"\u001b[39m\u001b[38;5;124mEpoch [\u001b[39m\u001b[38;5;132;01m{\u001b[39;00mepoch\u001b[38;5;250m \u001b[39m\u001b[38;5;241m+\u001b[39m\u001b[38;5;250m \u001b[39m\u001b[38;5;241m1\u001b[39m\u001b[38;5;132;01m}\u001b[39;00m\u001b[38;5;124m/\u001b[39m\u001b[38;5;132;01m{\u001b[39;00mepochs\u001b[38;5;132;01m}\u001b[39;00m\u001b[38;5;124m]\u001b[39m\u001b[38;5;124m\"\u001b[39m)\n\u001b[0;32m     97\u001b[0m \u001b[38;5;66;03m# Тренировка\u001b[39;00m\n\u001b[1;32m---> 98\u001b[0m train_loss \u001b[38;5;241m=\u001b[39m \u001b[43mtrain_one_epoch\u001b[49m\u001b[43m(\u001b[49m\u001b[43mtrain_loader\u001b[49m\u001b[43m,\u001b[49m\u001b[43m \u001b[49m\u001b[43mmodel\u001b[49m\u001b[43m,\u001b[49m\u001b[43m \u001b[49m\u001b[43mcriterion\u001b[49m\u001b[43m,\u001b[49m\u001b[43m \u001b[49m\u001b[43moptimizer\u001b[49m\u001b[43m,\u001b[49m\u001b[43m \u001b[49m\u001b[43mdevice\u001b[49m\u001b[43m)\u001b[49m\n\u001b[0;32m     99\u001b[0m \u001b[38;5;66;03m# Валидация\u001b[39;00m\n\u001b[0;32m    100\u001b[0m val_loss \u001b[38;5;241m=\u001b[39m validate(test_loader, model, criterion, device)\n",
      "Cell \u001b[1;32mIn[1], line 37\u001b[0m, in \u001b[0;36mtrain_one_epoch\u001b[1;34m(loader, model, criterion, optimizer, device)\u001b[0m\n\u001b[0;32m     34\u001b[0m epoch_loss \u001b[38;5;241m=\u001b[39m \u001b[38;5;241m0\u001b[39m\n\u001b[0;32m     36\u001b[0m \u001b[38;5;28;01mfor\u001b[39;00m sar, optical \u001b[38;5;129;01min\u001b[39;00m tqdm(loader, desc\u001b[38;5;241m=\u001b[39m\u001b[38;5;124m\"\u001b[39m\u001b[38;5;124mTraining\u001b[39m\u001b[38;5;124m\"\u001b[39m, leave\u001b[38;5;241m=\u001b[39m\u001b[38;5;28;01mFalse\u001b[39;00m):\n\u001b[1;32m---> 37\u001b[0m     sar, optical \u001b[38;5;241m=\u001b[39m \u001b[43msar\u001b[49m\u001b[38;5;241;43m.\u001b[39;49m\u001b[43mto\u001b[49m\u001b[43m(\u001b[49m\u001b[43mdevice\u001b[49m\u001b[43m)\u001b[49m, optical\u001b[38;5;241m.\u001b[39mto(device)\n\u001b[0;32m     39\u001b[0m     \u001b[38;5;66;03m# Прямой проход\u001b[39;00m\n\u001b[0;32m     40\u001b[0m     output \u001b[38;5;241m=\u001b[39m model(sar)\n",
      "\u001b[1;31mKeyboardInterrupt\u001b[0m: "
     ]
    }
   ],
   "source": [
    "import torch\n",
    "from torch import nn\n",
    "from torch.optim import Adam\n",
    "from tqdm import tqdm\n",
    "import os\n",
    "import sys\n",
    "import numpy as np\n",
    "\n",
    "project_root = os.path.abspath(os.path.join(os.getcwd(), \"..\"))\n",
    "if project_root not in sys.path:\n",
    "    sys.path.append(project_root)\n",
    "\n",
    "# Импорт модели UNet из файла models/UNet.py\n",
    "from models.UNet import UNet\n",
    "from utils.helpers import *\n",
    "\n",
    "# Настройки\n",
    "DEVICE = torch.device(\"cuda\" if torch.cuda.is_available() else \"cpu\")\n",
    "EPOCHS = 200  # Количество эпох\n",
    "LEARNING_RATE = 1e-5  # Скорость обучения\n",
    "SAVE_MODEL_PATH = f\"{project_root}/saved_models\"  # Папка для сохранения модели\n",
    "\n",
    "# Убедимся, что папка для сохранения модели существует\n",
    "os.makedirs(SAVE_MODEL_PATH, exist_ok=True)\n",
    "\n",
    "# Инициализация модели, функции потерь и оптимизатора\n",
    "model = UNet(in_channels=1, output_channels=3).to(DEVICE)\n",
    "criterion = nn.L1Loss()  # L1 Loss\n",
    "optimizer = Adam(model.parameters(), lr=LEARNING_RATE)\n",
    "\n",
    "# Функция для тренировки одной эпохи\n",
    "def train_one_epoch(loader, model, criterion, optimizer, device):\n",
    "    model.train()\n",
    "    epoch_loss = 0\n",
    "\n",
    "    for sar, optical in tqdm(loader, desc=\"Training\", leave=False):\n",
    "        sar, optical = sar.to(device), optical.to(device)\n",
    "\n",
    "        # Прямой проход\n",
    "        output = model(sar)\n",
    "\n",
    "        # Вычисление функции потерь\n",
    "        loss = criterion(output, optical)\n",
    "        epoch_loss += loss.item()\n",
    "\n",
    "        # Обратный проход\n",
    "        optimizer.zero_grad()\n",
    "        loss.backward()\n",
    "        optimizer.step()\n",
    "\n",
    "    return epoch_loss / len(loader)\n",
    "\n",
    "# Функция для валидации\n",
    "def validate(loader, model, criterion, device):\n",
    "    model.eval()\n",
    "    epoch_loss = 0\n",
    "\n",
    "    with torch.no_grad():\n",
    "        for sar, optical in tqdm(loader, desc=\"Validation\", leave=False):\n",
    "            sar, optical = sar.to(device), optical.to(device)\n",
    "\n",
    "            # Прямой проход\n",
    "            output = model(sar)\n",
    "\n",
    "            # Вычисление функции потерь\n",
    "            loss = criterion(output, optical)\n",
    "            epoch_loss += loss.item()\n",
    "\n",
    "    return epoch_loss / len(loader)\n",
    "\n",
    "# Основной цикл обучения\n",
    "def train_model(train_loader, test_loader, model, criterion, optimizer, epochs, device):\n",
    "    for epoch in range(epochs):\n",
    "        print(f\"Epoch [{epoch + 1}/{epochs}]\")\n",
    "\n",
    "        train_loss = train_one_epoch(train_loader, model, criterion, optimizer, device)\n",
    "        val_loss = validate(test_loader, model, criterion, device)\n",
    "\n",
    "        print(f\"Train Loss: {train_loss:.4f}, Validation Loss: {val_loss:.4f}\")\n",
    "\n",
    "        # Сохраняем модель после каждой эпохи\n",
    "        model_save_path = os.path.join(SAVE_MODEL_PATH, f\"unet_epoch_{epoch + 1}.pth\")\n",
    "        torch.save(model.state_dict(), model_save_path)\n",
    "        print(f\"Model saved to {model_save_path}\")\n",
    "\n",
    "def train_model_with_early_stopping(train_loader, test_loader, model, criterion, optimizer, epochs, device, patience=25):\n",
    "    best_val_loss = float(\"inf\")  # Изначально лучшее значение — бесконечность\n",
    "    save_path = \"../saved_models/best_model.pth\"  # Путь для сохранения лучшей модели\n",
    "    model.load_state_dict(torch.load(save_path, map_location=DEVICE))\n",
    "    no_improvement_epochs = 0  # Счётчик эпох без улучшения\n",
    "    train_losses = []\n",
    "    val_losses = []\n",
    "\n",
    "    for epoch in range(37, epochs):\n",
    "        print(f\"Epoch [{epoch + 1}/{epochs}]\")\n",
    "\n",
    "        # Тренировка\n",
    "        train_loss = train_one_epoch(train_loader, model, criterion, optimizer, device)\n",
    "        # Валидация\n",
    "        val_loss = validate(test_loader, model, criterion, device)\n",
    "        train_losses.append(train_loss)\n",
    "        val_losses.append(val_loss)\n",
    "        np.savez('losses.npz', train_losses=train_losses, val_losses=val_losses)\n",
    "\n",
    "        print(f\"Train Loss: {train_loss:.4f}, Validation Loss: {val_loss:.4f}\")\n",
    "\n",
    "        # Проверяем, улучшилась ли валидационная потеря\n",
    "        if val_loss < best_val_loss:\n",
    "            best_val_loss = val_loss\n",
    "            torch.save(model.state_dict(), save_path)\n",
    "            no_improvement_epochs = 0\n",
    "            print(f\"Validation loss improved. Model saved to {save_path}\")\n",
    "        else:\n",
    "            no_improvement_epochs += 1\n",
    "            print(f\"No improvement for {no_improvement_epochs} epoch(s).\")\n",
    "\n",
    "        # Проверяем условие ранней остановки\n",
    "        if no_improvement_epochs >= patience:\n",
    "            print(f\"Early stopping triggered after {patience} epochs without improvement. Last epoch: {epoch + 1}\")\n",
    "            break\n",
    "\n",
    "    print(f\"Training complete. Best model saved at: {save_path}\")\n",
    "\n",
    "\n",
    "# Запуск тренировки\n",
    "if __name__ == \"__main__\":\n",
    "    train_model_with_early_stopping(train_loader, test_loader, model, criterion, optimizer, EPOCHS, DEVICE)\n"
   ]
  },
  {
   "cell_type": "code",
   "execution_count": null,
   "metadata": {},
   "outputs": [],
   "source": []
  }
 ],
 "metadata": {
  "kernelspec": {
   "display_name": "Python 3",
   "language": "python",
   "name": "python3"
  },
  "language_info": {
   "codemirror_mode": {
    "name": "ipython",
    "version": 3
   },
   "file_extension": ".py",
   "mimetype": "text/x-python",
   "name": "python",
   "nbconvert_exporter": "python",
   "pygments_lexer": "ipython3",
   "version": "3.9.13"
  }
 },
 "nbformat": 4,
 "nbformat_minor": 2
}
