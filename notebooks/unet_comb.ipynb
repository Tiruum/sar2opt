{
 "cells": [
  {
   "cell_type": "code",
   "execution_count": 1,
   "metadata": {},
   "outputs": [
    {
     "name": "stdout",
     "output_type": "stream",
     "text": [
      "Using cuda\n",
      "Общая память GPU: 4.29 ГБ\n",
      "Свободная память GPU: 4.29 ГБ\n"
     ]
    }
   ],
   "source": [
    "import os\n",
    "import torch\n",
    "from torch import nn\n",
    "from torch.utils.data import DataLoader, Dataset\n",
    "import torchvision.transforms as T\n",
    "from PIL import Image\n",
    "import numpy as np\n",
    "import matplotlib.pyplot as plt\n",
    "from tqdm.notebook import tqdm\n",
    "from IPython.display import clear_output, display, update_display\n",
    "import sys\n",
    "\n",
    "project_root = os.path.abspath(os.path.join(os.getcwd(), \"..\"))\n",
    "if project_root not in sys.path:\n",
    "    sys.path.append(project_root)\n",
    "from utils.helpers import *\n",
    "from models.UNet import UNet\n",
    "from losses.CombinedLoss import CombinedLoss\n",
    "\n",
    "device = torch.device('cuda' if torch.cuda.is_available() else 'cpu')\n",
    "print(f'Using {device}')\n",
    "\n",
    "max_memory = torch.cuda.get_device_properties(0).total_memory  # Общий объем памяти на GPU\n",
    "used_memory = torch.cuda.memory_allocated(0)  # Используемая память на GPU\n",
    "available_memory = max_memory - used_memory\n",
    "\n",
    "print(f\"Общая память GPU: {max_memory / 1e9:.2f} ГБ\")\n",
    "print(f\"Свободная память GPU: {available_memory / 1e9:.2f} ГБ\")"
   ]
  },
  {
   "cell_type": "code",
   "execution_count": 2,
   "metadata": {},
   "outputs": [],
   "source": [
    "transform = T.Compose([\n",
    "    T.Resize((256, 256)),  # Изменение размера\n",
    "    T.ToTensor(),          # Преобразование в тензор\n",
    "    T.Normalize((0.5,), (0.5,))  # Нормализация\n",
    "])\n",
    "\n",
    "train_dataset = CustomDataset(root_dir='../dataset', transform=transform)\n",
    "train_loader = DataLoader(train_dataset, batch_size=16, shuffle=True)\n",
    "test_dataset = CustomDataset(root_dir='../dataset', transform=transform)\n",
    "test_loader = DataLoader(test_dataset, batch_size=1, shuffle=False)\n"
   ]
  },
  {
   "cell_type": "markdown",
   "metadata": {},
   "source": [
    "Пояснение:\n",
    "- **perceptual_weight=0.2:**\n",
    "    Радиолокационные изображения сложные, и визуальные текстуры имеют значение, но не настолько критичны, как структурные элементы.\n",
    "\n",
    "- **ssim_weight=0.5:**\n",
    "    Увеличенный вес SSIM позволит модели сосредоточиться на сохранении структурных характеристик, что важно для интерпретируемости результатов.\n",
    "\n",
    "- **mse_weight=1.0:**\n",
    "    Оставляем базовым, чтобы пиксельная ошибка оставалась основным направляющим компонентом.\n",
    "\n",
    "- **tv_weight=0.01:**\n",
    "    Малый вес TV Loss помогает устранить шум, но не доминирует над другими компонентами."
   ]
  },
  {
   "cell_type": "code",
   "execution_count": null,
   "metadata": {},
   "outputs": [
    {
     "name": "stdout",
     "output_type": "stream",
     "text": [
      "Модель создана заново.\n",
      "Loss history (loss_history.npz) не найдена, начинаем сначала.\n"
     ]
    },
    {
     "data": {
      "image/png": "[encoded data removed]",
      "text/plain": [
       "<Figure size 1000x500 with 1 Axes>"
      ]
     },
     "metadata": {},
     "output_type": "display_data"
    },
    {
     "data": {
      "application/vnd.jupyter.widget-view+json": {
       "model_id": "88f8eb6d0ebd4c8491327013da6a7920",
       "version_major": 2,
       "version_minor": 0
      },
      "text/plain": [
       "  0%|          | 0/100 [00:00<?, ?epoch/s]"
      ]
     },
     "metadata": {},
     "output_type": "display_data"
    },
    {
     "name": "stderr",
     "output_type": "stream",
     "text": [
      "c:\\Users\\tiruu\\AppData\\Local\\Programs\\Python\\Python39\\lib\\site-packages\\torchmetrics\\utilities\\prints.py:70: FutureWarning: Importing `spectral_angle_mapper` from `torchmetrics.functional` was deprecated and will be removed in 2.0. Import `spectral_angle_mapper` from `torchmetrics.image` instead.\n",
      "  _future_warning(\n"
     ]
    }
   ],
   "source": [
    "model = UNet().to(device)\n",
    "optimizer = torch.optim.Adam(model.parameters(), lr=1e-4, betas=(0.9, 0.9))\n",
    "criterion = CombinedLoss(\n",
    "    perceptual_weight=0.2,  # Умеренный вес для перцептивной потери\n",
    "    ssim_weight=0.5,       # Усиленный вес для сохранения структуры\n",
    "    mse_weight=1.0,        # Базовый вес для пиксельной ошибки\n",
    "    tv_weight=0.00         # Малый вес для сглаживания\n",
    ").to(device)\n",
    "# criterion = nn.MSELoss()\n",
    "\n",
    "checkpoint_path = os.path.join(\"checkpoints\", \"best_model.pth\")\n",
    "start_epoch = 0\n",
    "\n",
    "if os.path.exists(checkpoint_path):\n",
    "    start_epoch = load_checkpoint(checkpoint_path, model, optimizer)\n",
    "else:\n",
    "    print(\"Модель создана заново.\")\n",
    "\n",
    "# Early stopping параметры\n",
    "patience = 10\n",
    "best_test_loss = float('inf')\n",
    "wait = 0\n",
    "\n",
    "# Логирование\n",
    "train_loss_history, test_loss_history = load_loss_history(\"loss_history.npz\")\n",
    "# Инициализация графика (вне цикла)\n",
    "plt.ion()\n",
    "fig, ax = plt.subplots(figsize=(10, 5))\n",
    "train_line, = ax.plot(\n",
    "    range(len(train_loss_history)),\n",
    "    train_loss_history,\n",
    "    label=\"Train Loss\",\n",
    "    marker='o',   # Добавляем маркеры (точки)\n",
    "    linestyle='-'  # Линия соединяет точки\n",
    ")\n",
    "\n",
    "test_line, = ax.plot(\n",
    "    range(len(test_loss_history)),\n",
    "    test_loss_history,\n",
    "    label=\"Validation Loss\",\n",
    "    marker='s',   # Маркеры для тестовой кривой\n",
    "    linestyle='-'  # Линия соединяет точки\n",
    ")\n",
    "\n",
    "ax.relim()  # Пересчитываем границы\n",
    "ax.autoscale_view(scalex=True, scaley=True)\n",
    "ax.set_xlabel(\"Epoch\")\n",
    "ax.set_ylabel(\"Loss\")\n",
    "ax.set_title(\"Training and Validation Loss\")\n",
    "ax.legend()\n",
    "ax.grid(True)\n",
    "\n",
    "# Отображение графика в отдельной ячейке\n",
    "display(fig, display_id=\"loss_graph\")\n",
    "\n",
    "from torch.amp import autocast, GradScaler  # Импорт необходимых инструментов\n",
    "\n",
    "# Инициализация масштабировщика градиентов\n",
    "scaler = GradScaler()\n",
    "\n",
    "# Количество эпох\n",
    "total_epochs = 100\n",
    "with tqdm(total=total_epochs, unit='epoch', initial=start_epoch) as pbar:\n",
    "    for epoch in range(start_epoch , total_epochs):\n",
    "        for name, param in model.named_parameters():\n",
    "            if param.grad is not None:\n",
    "                if torch.isnan(param.grad).any():\n",
    "                    print(f\"NaN detected in gradients for {name}\")\n",
    "\n",
    "        if epoch == start_epoch:  # Пропускаем обработку загруженной эпохи\n",
    "            continue\n",
    "\n",
    "        model.train()\n",
    "        train_loss = 0\n",
    "        for imgA, imgB in train_loader:\n",
    "            imgA, imgB = imgA.to(device), imgB.to(device)\n",
    "\n",
    "            optimizer.zero_grad()\n",
    "            with autocast('cuda'):\n",
    "                outputs = model(imgA)\n",
    "                loss = criterion(outputs, imgB)\n",
    "\n",
    "            scaler.scale(loss).backward() # loss.backward()\n",
    "            scaler.step(optimizer)\n",
    "            scaler.update()\n",
    "\n",
    "            train_loss += loss.item()\n",
    "        train_loss_history.append(train_loss)\n",
    "\n",
    "        # Оценка на тестовом наборе\n",
    "        model.eval()\n",
    "        test_loss = 0\n",
    "        with torch.no_grad():\n",
    "            for imgA, imgB in test_loader:\n",
    "                imgA, imgB = imgA.to(device), imgB.to(device)\n",
    "                outputs = model(imgA)\n",
    "                loss = criterion(outputs, imgB)\n",
    "                    \n",
    "                test_loss += loss.item()\n",
    "        test_loss_history.append(test_loss)\n",
    "\n",
    "        # Сохранение истории потерь после каждой эпохи\n",
    "        save_loss_history(train_loss_history, test_loss_history, \"loss_history.npz\")\n",
    "\n",
    "        # Ранняя остановка\n",
    "        if test_loss < best_test_loss:\n",
    "            best_test_loss = test_loss\n",
    "            wait = 0\n",
    "            save_best_model(epoch, model, optimizer, test_loss, checkpoint_path)  # Сохранение только лучшей модели\n",
    "        else:\n",
    "            wait += 1\n",
    "            if wait >= patience:\n",
    "                pbar.set_description(f\"Early stopping triggered at epoch {epoch}\")  # Обновляем описание tqdm\n",
    "                pbar.update(1)\n",
    "                break\n",
    "\n",
    "        # Обновление tqdm\n",
    "        pbar.set_description(f\"Train Loss: {train_loss:.4f}, Val Loss: {test_loss:.4f}\")\n",
    "        pbar.update(1)\n",
    "\n",
    "        # График потерь\n",
    "        train_line.set_data(range(len(train_loss_history)), train_loss_history)\n",
    "        test_line.set_data(range(len(test_loss_history)), test_loss_history)\n",
    "        ax.relim()  # Пересчитываем границы\n",
    "        ax.autoscale_view(scalex=True, scaley=True)  # Автоматически обновляем масштаб\n",
    "        update_display(fig, display_id=\"loss_graph\")  # Обновляем график в ячейке\n",
    "\n",
    "# Загрузка лучшей модели\n",
    "model.load_state_dict(torch.load(checkpoint_path)['model_state_dict'])\n",
    "print(\"Загружена лучшая модель!\")"
   ]
  },
  {
   "cell_type": "code",
   "execution_count": null,
   "metadata": {},
   "outputs": [],
   "source": []
  }
 ],
 "metadata": {
  "kernelspec": {
   "display_name": "Python 3",
   "language": "python",
   "name": "python3"
  },
  "language_info": {
   "codemirror_mode": {
    "name": "ipython",
    "version": 3
   },
   "file_extension": ".py",
   "mimetype": "text/x-python",
   "name": "python",
   "nbconvert_exporter": "python",
   "pygments_lexer": "ipython3",
   "version": "3.9.13"
  }
 },
 "nbformat": 4,
 "nbformat_minor": 2
}
