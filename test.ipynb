{
 "cells": [
  {
   "cell_type": "code",
   "execution_count": null,
   "metadata": {},
   "outputs": [
    {
     "name": "stdout",
     "output_type": "stream",
     "text": [
      "Using mps\n"
     ]
    },
    {
     "data": {
      "application/vnd.jupyter.widget-view+json": {
       "model_id": "782c06413b274ae6ac03fc3135c5df5c",
       "version_major": 2,
       "version_minor": 0
      },
      "text/plain": [
       "Epoch 1/400:   0%|          | 0/23 [00:00<?, ?it/s]"
      ]
     },
     "metadata": {},
     "output_type": "display_data"
    },
    {
     "data": {
      "application/vnd.jupyter.widget-view+json": {
       "model_id": "0661efa67cff44e78ce1bb09e27db52d",
       "version_major": 2,
       "version_minor": 0
      },
      "text/plain": [
       "Epoch 2/400:   0%|          | 0/23 [00:00<?, ?it/s]"
      ]
     },
     "metadata": {},
     "output_type": "display_data"
    },
    {
     "data": {
      "application/vnd.jupyter.widget-view+json": {
       "model_id": "c8b348407a3841f88fd68a3077dda2c2",
       "version_major": 2,
       "version_minor": 0
      },
      "text/plain": [
       "Epoch 3/400:   0%|          | 0/23 [00:00<?, ?it/s]"
      ]
     },
     "metadata": {},
     "output_type": "display_data"
    }
   ],
   "source": [
    "import os\n",
    "import matplotlib.pyplot as plt\n",
    "import torch\n",
    "from tqdm.notebook import tqdm\n",
    "from models.Pix2Pix import Pix2PixGAN\n",
    "from utils.Dataset import *\n",
    "from utils.lossTracker import save_losses, load_losses\n",
    "import matplotlib.gridspec as gridspec\n",
    "from utils.ConfigLoader import ConfigLoader\n",
    "config = ConfigLoader()\n",
    "\n",
    "# Получаем 5 первых изображений из тренировочного загрузчика\n",
    "train_iterator = iter(train_loader)  # Создаем итератор для train_loader\n",
    "fixed_batch = next(train_iterator)  # Получаем первый batch\n",
    "fixed_sar, fixed_optical = fixed_batch[0][:5], fixed_batch[1][:5]  # Берем 5 первых изображений\n",
    "\n",
    "@torch.no_grad()\n",
    "def save_training_images(model, epoch, g_loss, d_loss, save_dir):\n",
    "    \"\"\"\n",
    "    Сохраняет графики генератора/дискриминатора потерь и фиксированные пять изображений.\n",
    "    \"\"\"\n",
    "    os.makedirs(save_dir, exist_ok=True)\n",
    "\n",
    "    # Генерация фиксированных изображений\n",
    "    generated = model.generator(fixed_sar.to(device))\n",
    "\n",
    "    fig = plt.figure(figsize=(15, 40))\n",
    "    gs = gridspec.GridSpec(7, 3, figure=fig)\n",
    "\n",
    "    fig.suptitle(f\"Epoch: {epoch+1}, G lr: {model.optimizer_D.param_groups[0]['lr']}, D lr: {model.optimizer_G.param_groups[0]['lr']}\", fontsize=16)  # y задает отступ сверху\n",
    "\n",
    "    # График потерь генератора\n",
    "    ax1 = fig.add_subplot(gs[0, :])\n",
    "    ax1.plot(range(1, len(g_loss) + 1), g_loss, label=\"Generator Loss\", color=\"blue\")\n",
    "    ax1.set_title(\"Generator Loss\")\n",
    "    ax1.set_xlabel(\"Epochs\")\n",
    "    ax1.set_ylabel(\"Loss\")\n",
    "    ax1.grid()\n",
    "    ax1.legend()\n",
    "\n",
    "    # График потерь дискриминатора\n",
    "    ax2 = fig.add_subplot(gs[1, :])\n",
    "    ax2.plot(range(1, len(d_loss) + 1), d_loss, label=\"Discriminator Loss\", color=\"red\")\n",
    "    ax2.set_title(\"Discriminator Loss\")\n",
    "    ax2.set_xlabel(\"Epochs\")\n",
    "    ax2.set_ylabel(\"Loss\")\n",
    "    ax2.grid()\n",
    "    ax2.legend()\n",
    "\n",
    "    # Добавляем изображения: SAR, Generated, Target\n",
    "    for i in range(5):\n",
    "        # SAR Image\n",
    "        ax_sar = fig.add_subplot(gs[2 + i, 0])\n",
    "        sar_image = fixed_sar[i, 0, :, :].cpu().detach().numpy()\n",
    "        ax_sar.imshow(sar_image * 0.5 + 0.5, cmap='gray')\n",
    "        ax_sar.set_title(f\"SAR Image {i+1}\")\n",
    "        ax_sar.axis('off')\n",
    "\n",
    "        # Generated Image\n",
    "        ax_gen = fig.add_subplot(gs[2 + i, 1])\n",
    "        generated_image = generated[i].permute(1, 2, 0).cpu().detach().numpy()\n",
    "        ax_gen.imshow((generated_image * 0.5 + 0.5))\n",
    "        ax_gen.set_title(f\"Generated Image {i+1}\")\n",
    "        ax_gen.axis('off')\n",
    "\n",
    "        # Target Image\n",
    "        ax_opt = fig.add_subplot(gs[2 + i, 2])\n",
    "        optical_image = fixed_optical[i].permute(1, 2, 0).cpu().detach().numpy()\n",
    "        ax_opt.imshow((optical_image * 0.5 + 0.5))\n",
    "        ax_opt.set_title(f\"Target Image {i+1}\")\n",
    "        ax_opt.axis('off')\n",
    "\n",
    "    # Настройка расстояний между элементами\n",
    "    plt.tight_layout()\n",
    "\n",
    "    # Сохранение итогового изображения\n",
    "    save_path = os.path.join(save_dir, f\"epoch_{epoch+1}_images.png\")\n",
    "    plt.savefig(save_path)\n",
    "    plt.close(fig)\n",
    "\n",
    "\n",
    "# Устройство для вычислений\n",
    "device = torch.device(\"cuda\" if torch.cuda.is_available() else \"mps\" if torch.mps.is_available() else \"cpu\")\n",
    "print(f'Using {device}')\n",
    "torch.cuda.empty_cache() if torch.cuda.is_available() else torch.mps.empty_cache() if torch.mps.is_available() else None\n",
    "\n",
    "# Создание модели\n",
    "model = Pix2PixGAN(device)\n",
    "\n",
    "# Загрузка модели\n",
    "if config.get('model', 'load_model'):\n",
    "    start_epoch = model.load_state('checkpoint_epoch_400', device)\n",
    "    losses_dict = load_losses()\n",
    "    if losses_dict:\n",
    "        g_loss = losses_dict['g_loss']\n",
    "        d_loss = losses_dict['d_loss']\n",
    "else:\n",
    "    start_epoch = 0\n",
    "    g_loss = []\n",
    "    d_loss = []\n",
    "\n",
    "# Конечная эпоха\n",
    "end_epoch = config.get('model', 'end_epoch')\n",
    "torch.backends.cudnn.benchmark = True\n",
    "\n",
    "# Обучение модели\n",
    "for epoch in range(start_epoch, end_epoch):\n",
    "    with tqdm(train_loader, desc=f\"Epoch {epoch+1}/{end_epoch}\", leave=False) as pbar:\n",
    "        epoch_loss_G, epoch_loss_D = [], []\n",
    "        for real_A, real_B in pbar:\n",
    "            loss_D, loss_G = model.train_step(real_A.to(device), real_B.to(device))\n",
    "            pbar.set_postfix({\n",
    "                \"Loss D\": loss_D,\n",
    "                \"Loss G\": loss_G,\n",
    "                \"LR D\": model.optimizer_D.param_groups[0]['lr'],\n",
    "                \"LR G\": model.optimizer_G.param_groups[0]['lr']\n",
    "            })\n",
    "            epoch_loss_G.append(loss_G)\n",
    "            epoch_loss_D.append(loss_D)\n",
    "\n",
    "        # Адаптация скорости обучения\n",
    "        model.step_schedulers(np.mean(epoch_loss_G), np.mean(epoch_loss_D))\n",
    "\n",
    "        g_loss.append(loss_G)\n",
    "        d_loss.append(loss_D)\n",
    "\n",
    "        # Сохранение модели и метрик\n",
    "        if (epoch + 1) % 50 == 0:\n",
    "            model.save_state(epoch, save_dir=config.get('paths', 'model_save_dir'))\n",
    "            save_losses(g_loss=g_loss, d_loss=d_loss)\n",
    "\n",
    "        # Сохранение изображений каждые 20 эпох\n",
    "        if (epoch + 1) % 20 == 0:\n",
    "            save_training_images(model, epoch, g_loss, d_loss, save_dir=config.get('paths', 'image_save_dir'))\n"
   ]
  },
  {
   "cell_type": "code",
   "execution_count": null,
   "metadata": {},
   "outputs": [],
   "source": []
  }
 ],
 "metadata": {
  "kernelspec": {
   "display_name": "Python 3",
   "language": "python",
   "name": "python3"
  },
  "language_info": {
   "codemirror_mode": {
    "name": "ipython",
    "version": 3
   },
   "file_extension": ".py",
   "mimetype": "text/x-python",
   "name": "python",
   "nbconvert_exporter": "python",
   "pygments_lexer": "ipython3",
   "version": "3.9.6"
  }
 },
 "nbformat": 4,
 "nbformat_minor": 2
}
