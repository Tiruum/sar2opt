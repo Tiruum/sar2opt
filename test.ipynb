{
 "cells": [
  {
   "cell_type": "code",
   "execution_count": 1,
   "metadata": {},
   "outputs": [
    {
     "name": "stdout",
     "output_type": "stream",
     "text": [
      "Using cuda\n"
     ]
    },
    {
     "data": {
      "application/vnd.jupyter.widget-view+json": {
       "model_id": "fd3e1dc72ed146399e4f8ee03e9079a4",
       "version_major": 2,
       "version_minor": 0
      },
      "text/plain": [
       "Epoch 1/400 Train:   0%|          | 0/46 [00:00<?, ?it/s]"
      ]
     },
     "metadata": {},
     "output_type": "display_data"
    },
    {
     "data": {
      "application/vnd.jupyter.widget-view+json": {
       "model_id": "099f0e3968f44d50a56a97ed151bb31f",
       "version_major": 2,
       "version_minor": 0
      },
      "text/plain": [
       "Epoch 1/400 Validation:   0%|          | 0/20 [00:00<?, ?it/s]"
      ]
     },
     "metadata": {},
     "output_type": "display_data"
    },
    {
     "data": {
      "application/vnd.jupyter.widget-view+json": {
       "model_id": "582fd33cb9124903bef017fc8ef26455",
       "version_major": 2,
       "version_minor": 0
      },
      "text/plain": [
       "Epoch 2/400 Train:   0%|          | 0/46 [00:00<?, ?it/s]"
      ]
     },
     "metadata": {},
     "output_type": "display_data"
    },
    {
     "data": {
      "application/vnd.jupyter.widget-view+json": {
       "model_id": "243e9747033446c2b0a2a68f3b5ba025",
       "version_major": 2,
       "version_minor": 0
      },
      "text/plain": [
       "Epoch 2/400 Validation:   0%|          | 0/20 [00:00<?, ?it/s]"
      ]
     },
     "metadata": {},
     "output_type": "display_data"
    },
    {
     "data": {
      "application/vnd.jupyter.widget-view+json": {
       "model_id": "f2a3d6734f23444e9847a8c2520aba75",
       "version_major": 2,
       "version_minor": 0
      },
      "text/plain": [
       "Epoch 3/400 Train:   0%|          | 0/46 [00:00<?, ?it/s]"
      ]
     },
     "metadata": {},
     "output_type": "display_data"
    },
    {
     "data": {
      "application/vnd.jupyter.widget-view+json": {
       "model_id": "39aecb77d4564b7991b7ad1a1c58efdd",
       "version_major": 2,
       "version_minor": 0
      },
      "text/plain": [
       "Epoch 3/400 Validation:   0%|          | 0/20 [00:00<?, ?it/s]"
      ]
     },
     "metadata": {},
     "output_type": "display_data"
    },
    {
     "data": {
      "application/vnd.jupyter.widget-view+json": {
       "model_id": "3407ebcab71c4c1e934e42eeade9b95a",
       "version_major": 2,
       "version_minor": 0
      },
      "text/plain": [
       "Epoch 4/400 Train:   0%|          | 0/46 [00:00<?, ?it/s]"
      ]
     },
     "metadata": {},
     "output_type": "display_data"
    },
    {
     "data": {
      "application/vnd.jupyter.widget-view+json": {
       "model_id": "d2e2282f7c22477f993372a4554bdb43",
       "version_major": 2,
       "version_minor": 0
      },
      "text/plain": [
       "Epoch 4/400 Validation:   0%|          | 0/20 [00:00<?, ?it/s]"
      ]
     },
     "metadata": {},
     "output_type": "display_data"
    },
    {
     "data": {
      "application/vnd.jupyter.widget-view+json": {
       "model_id": "954c419d9605473297d502bdc9e9dc81",
       "version_major": 2,
       "version_minor": 0
      },
      "text/plain": [
       "Epoch 5/400 Train:   0%|          | 0/46 [00:00<?, ?it/s]"
      ]
     },
     "metadata": {},
     "output_type": "display_data"
    },
    {
     "data": {
      "application/vnd.jupyter.widget-view+json": {
       "model_id": "4f5c0880c826475cb99bc1dc7f27f118",
       "version_major": 2,
       "version_minor": 0
      },
      "text/plain": [
       "Epoch 5/400 Validation:   0%|          | 0/20 [00:00<?, ?it/s]"
      ]
     },
     "metadata": {},
     "output_type": "display_data"
    },
    {
     "data": {
      "application/vnd.jupyter.widget-view+json": {
       "model_id": "022b5607407b490499a8625c08731c70",
       "version_major": 2,
       "version_minor": 0
      },
      "text/plain": [
       "Epoch 6/400 Train:   0%|          | 0/46 [00:00<?, ?it/s]"
      ]
     },
     "metadata": {},
     "output_type": "display_data"
    },
    {
     "data": {
      "application/vnd.jupyter.widget-view+json": {
       "model_id": "5f10fc22641a414bb05d51a59a7ecd0d",
       "version_major": 2,
       "version_minor": 0
      },
      "text/plain": [
       "Epoch 6/400 Validation:   0%|          | 0/20 [00:00<?, ?it/s]"
      ]
     },
     "metadata": {},
     "output_type": "display_data"
    },
    {
     "data": {
      "application/vnd.jupyter.widget-view+json": {
       "model_id": "ac97ecdfd46e4924b33c71a5294380df",
       "version_major": 2,
       "version_minor": 0
      },
      "text/plain": [
       "Epoch 7/400 Train:   0%|          | 0/46 [00:00<?, ?it/s]"
      ]
     },
     "metadata": {},
     "output_type": "display_data"
    },
    {
     "data": {
      "application/vnd.jupyter.widget-view+json": {
       "model_id": "b29fb002f9fc4382a6d940ba683b4aaa",
       "version_major": 2,
       "version_minor": 0
      },
      "text/plain": [
       "Epoch 7/400 Validation:   0%|          | 0/20 [00:00<?, ?it/s]"
      ]
     },
     "metadata": {},
     "output_type": "display_data"
    },
    {
     "data": {
      "application/vnd.jupyter.widget-view+json": {
       "model_id": "e8a9a94f5bd841bc9ba36298108e9046",
       "version_major": 2,
       "version_minor": 0
      },
      "text/plain": [
       "Epoch 8/400 Train:   0%|          | 0/46 [00:00<?, ?it/s]"
      ]
     },
     "metadata": {},
     "output_type": "display_data"
    },
    {
     "data": {
      "application/vnd.jupyter.widget-view+json": {
       "model_id": "bad72459c6a1401385192e166487fbc3",
       "version_major": 2,
       "version_minor": 0
      },
      "text/plain": [
       "Epoch 8/400 Validation:   0%|          | 0/20 [00:00<?, ?it/s]"
      ]
     },
     "metadata": {},
     "output_type": "display_data"
    },
    {
     "data": {
      "application/vnd.jupyter.widget-view+json": {
       "model_id": "36bfe8ed5586410687092063bbf25654",
       "version_major": 2,
       "version_minor": 0
      },
      "text/plain": [
       "Epoch 9/400 Train:   0%|          | 0/46 [00:00<?, ?it/s]"
      ]
     },
     "metadata": {},
     "output_type": "display_data"
    },
    {
     "data": {
      "application/vnd.jupyter.widget-view+json": {
       "model_id": "1066152e16fb4eb8abac7d3589aace2d",
       "version_major": 2,
       "version_minor": 0
      },
      "text/plain": [
       "Epoch 9/400 Validation:   0%|          | 0/20 [00:00<?, ?it/s]"
      ]
     },
     "metadata": {},
     "output_type": "display_data"
    },
    {
     "data": {
      "application/vnd.jupyter.widget-view+json": {
       "model_id": "1d88fba449cc4181adbf1b90b484fbfb",
       "version_major": 2,
       "version_minor": 0
      },
      "text/plain": [
       "Epoch 10/400 Train:   0%|          | 0/46 [00:00<?, ?it/s]"
      ]
     },
     "metadata": {},
     "output_type": "display_data"
    },
    {
     "data": {
      "application/vnd.jupyter.widget-view+json": {
       "model_id": "02590ddf6c9d4d93a3199403e73c9e8f",
       "version_major": 2,
       "version_minor": 0
      },
      "text/plain": [
       "Epoch 10/400 Validation:   0%|          | 0/20 [00:00<?, ?it/s]"
      ]
     },
     "metadata": {},
     "output_type": "display_data"
    },
    {
     "data": {
      "application/vnd.jupyter.widget-view+json": {
       "model_id": "79b80667750f49d997c088e4eee84ecc",
       "version_major": 2,
       "version_minor": 0
      },
      "text/plain": [
       "Epoch 11/400 Train:   0%|          | 0/46 [00:00<?, ?it/s]"
      ]
     },
     "metadata": {},
     "output_type": "display_data"
    },
    {
     "data": {
      "application/vnd.jupyter.widget-view+json": {
       "model_id": "bc43c9d9a3ca440c895987c24bf8d41e",
       "version_major": 2,
       "version_minor": 0
      },
      "text/plain": [
       "Epoch 11/400 Validation:   0%|          | 0/20 [00:00<?, ?it/s]"
      ]
     },
     "metadata": {},
     "output_type": "display_data"
    },
    {
     "data": {
      "application/vnd.jupyter.widget-view+json": {
       "model_id": "a6a6bb26d65142e2b9d49f7c0c39617d",
       "version_major": 2,
       "version_minor": 0
      },
      "text/plain": [
       "Epoch 12/400 Train:   0%|          | 0/46 [00:00<?, ?it/s]"
      ]
     },
     "metadata": {},
     "output_type": "display_data"
    },
    {
     "data": {
      "application/vnd.jupyter.widget-view+json": {
       "model_id": "6a9e217196f445cebb4e5c5fdaa79b1d",
       "version_major": 2,
       "version_minor": 0
      },
      "text/plain": [
       "Epoch 12/400 Validation:   0%|          | 0/20 [00:00<?, ?it/s]"
      ]
     },
     "metadata": {},
     "output_type": "display_data"
    },
    {
     "data": {
      "application/vnd.jupyter.widget-view+json": {
       "model_id": "07e75a6f01434f5288d1d10808d918f9",
       "version_major": 2,
       "version_minor": 0
      },
      "text/plain": [
       "Epoch 13/400 Train:   0%|          | 0/46 [00:00<?, ?it/s]"
      ]
     },
     "metadata": {},
     "output_type": "display_data"
    },
    {
     "data": {
      "application/vnd.jupyter.widget-view+json": {
       "model_id": "4f6fe3c11aad4ecab6c8a2ec01618a84",
       "version_major": 2,
       "version_minor": 0
      },
      "text/plain": [
       "Epoch 13/400 Validation:   0%|          | 0/20 [00:00<?, ?it/s]"
      ]
     },
     "metadata": {},
     "output_type": "display_data"
    },
    {
     "data": {
      "application/vnd.jupyter.widget-view+json": {
       "model_id": "fdea4d4d81464c4f9ef0b9c0b67b03a6",
       "version_major": 2,
       "version_minor": 0
      },
      "text/plain": [
       "Epoch 14/400 Train:   0%|          | 0/46 [00:00<?, ?it/s]"
      ]
     },
     "metadata": {},
     "output_type": "display_data"
    },
    {
     "data": {
      "application/vnd.jupyter.widget-view+json": {
       "model_id": "2e693a03edae4e0aa24b4bdc37fb9304",
       "version_major": 2,
       "version_minor": 0
      },
      "text/plain": [
       "Epoch 14/400 Validation:   0%|          | 0/20 [00:00<?, ?it/s]"
      ]
     },
     "metadata": {},
     "output_type": "display_data"
    },
    {
     "data": {
      "application/vnd.jupyter.widget-view+json": {
       "model_id": "16ae5ef7aa27449c8756906016ae6a13",
       "version_major": 2,
       "version_minor": 0
      },
      "text/plain": [
       "Epoch 15/400 Train:   0%|          | 0/46 [00:00<?, ?it/s]"
      ]
     },
     "metadata": {},
     "output_type": "display_data"
    },
    {
     "data": {
      "application/vnd.jupyter.widget-view+json": {
       "model_id": "a77d31ac28dd46298dfd0090355bce07",
       "version_major": 2,
       "version_minor": 0
      },
      "text/plain": [
       "Epoch 15/400 Validation:   0%|          | 0/20 [00:00<?, ?it/s]"
      ]
     },
     "metadata": {},
     "output_type": "display_data"
    },
    {
     "data": {
      "application/vnd.jupyter.widget-view+json": {
       "model_id": "03124786a5154cc3b4f7fff2e51a4995",
       "version_major": 2,
       "version_minor": 0
      },
      "text/plain": [
       "Epoch 16/400 Train:   0%|          | 0/46 [00:00<?, ?it/s]"
      ]
     },
     "metadata": {},
     "output_type": "display_data"
    },
    {
     "data": {
      "application/vnd.jupyter.widget-view+json": {
       "model_id": "aeee4c0f982e47379de96712f065c3d3",
       "version_major": 2,
       "version_minor": 0
      },
      "text/plain": [
       "Epoch 16/400 Validation:   0%|          | 0/20 [00:00<?, ?it/s]"
      ]
     },
     "metadata": {},
     "output_type": "display_data"
    },
    {
     "data": {
      "application/vnd.jupyter.widget-view+json": {
       "model_id": "4f5ea9ac508444bfab87cce4d844c18c",
       "version_major": 2,
       "version_minor": 0
      },
      "text/plain": [
       "Epoch 17/400 Train:   0%|          | 0/46 [00:00<?, ?it/s]"
      ]
     },
     "metadata": {},
     "output_type": "display_data"
    },
    {
     "data": {
      "application/vnd.jupyter.widget-view+json": {
       "model_id": "6f0ecf0f16f9440e8dd6387cf62b95f7",
       "version_major": 2,
       "version_minor": 0
      },
      "text/plain": [
       "Epoch 17/400 Validation:   0%|          | 0/20 [00:00<?, ?it/s]"
      ]
     },
     "metadata": {},
     "output_type": "display_data"
    },
    {
     "data": {
      "application/vnd.jupyter.widget-view+json": {
       "model_id": "38020ceeed1e423dbe39e87579069137",
       "version_major": 2,
       "version_minor": 0
      },
      "text/plain": [
       "Epoch 18/400 Train:   0%|          | 0/46 [00:00<?, ?it/s]"
      ]
     },
     "metadata": {},
     "output_type": "display_data"
    },
    {
     "data": {
      "application/vnd.jupyter.widget-view+json": {
       "model_id": "56b93d082e20454b88e64e6050274cd6",
       "version_major": 2,
       "version_minor": 0
      },
      "text/plain": [
       "Epoch 18/400 Validation:   0%|          | 0/20 [00:00<?, ?it/s]"
      ]
     },
     "metadata": {},
     "output_type": "display_data"
    },
    {
     "data": {
      "application/vnd.jupyter.widget-view+json": {
       "model_id": "b41530bd835142878b6fc80f165015f3",
       "version_major": 2,
       "version_minor": 0
      },
      "text/plain": [
       "Epoch 19/400 Train:   0%|          | 0/46 [00:00<?, ?it/s]"
      ]
     },
     "metadata": {},
     "output_type": "display_data"
    },
    {
     "data": {
      "application/vnd.jupyter.widget-view+json": {
       "model_id": "dced1f6ff7854cada5b296a7e4f41aa9",
       "version_major": 2,
       "version_minor": 0
      },
      "text/plain": [
       "Epoch 19/400 Validation:   0%|          | 0/20 [00:00<?, ?it/s]"
      ]
     },
     "metadata": {},
     "output_type": "display_data"
    },
    {
     "data": {
      "application/vnd.jupyter.widget-view+json": {
       "model_id": "45b4ca4c313340b7aab7b7d720544f22",
       "version_major": 2,
       "version_minor": 0
      },
      "text/plain": [
       "Epoch 20/400 Train:   0%|          | 0/46 [00:00<?, ?it/s]"
      ]
     },
     "metadata": {},
     "output_type": "display_data"
    },
    {
     "data": {
      "application/vnd.jupyter.widget-view+json": {
       "model_id": "8f5e3b4cfc2345a69e7315f8fcefe2b4",
       "version_major": 2,
       "version_minor": 0
      },
      "text/plain": [
       "Epoch 20/400 Validation:   0%|          | 0/20 [00:00<?, ?it/s]"
      ]
     },
     "metadata": {},
     "output_type": "display_data"
    },
    {
     "data": {
      "application/vnd.jupyter.widget-view+json": {
       "model_id": "9095fd6cd3e942a1b39db779b4d12c0a",
       "version_major": 2,
       "version_minor": 0
      },
      "text/plain": [
       "Epoch 21/400 Train:   0%|          | 0/46 [00:00<?, ?it/s]"
      ]
     },
     "metadata": {},
     "output_type": "display_data"
    },
    {
     "data": {
      "application/vnd.jupyter.widget-view+json": {
       "model_id": "de96b61b8bf645da91b664a913d3cde5",
       "version_major": 2,
       "version_minor": 0
      },
      "text/plain": [
       "Epoch 21/400 Validation:   0%|          | 0/20 [00:00<?, ?it/s]"
      ]
     },
     "metadata": {},
     "output_type": "display_data"
    },
    {
     "data": {
      "application/vnd.jupyter.widget-view+json": {
       "model_id": "9b8e38c60d3246ddb5b45ae4a9fc3f79",
       "version_major": 2,
       "version_minor": 0
      },
      "text/plain": [
       "Epoch 22/400 Train:   0%|          | 0/46 [00:00<?, ?it/s]"
      ]
     },
     "metadata": {},
     "output_type": "display_data"
    },
    {
     "data": {
      "application/vnd.jupyter.widget-view+json": {
       "model_id": "fed82699f373403b84b288e13af4ebd1",
       "version_major": 2,
       "version_minor": 0
      },
      "text/plain": [
       "Epoch 22/400 Validation:   0%|          | 0/20 [00:00<?, ?it/s]"
      ]
     },
     "metadata": {},
     "output_type": "display_data"
    },
    {
     "data": {
      "application/vnd.jupyter.widget-view+json": {
       "model_id": "ce0ccf602402400aae223c9fc53b9a55",
       "version_major": 2,
       "version_minor": 0
      },
      "text/plain": [
       "Epoch 23/400 Train:   0%|          | 0/46 [00:00<?, ?it/s]"
      ]
     },
     "metadata": {},
     "output_type": "display_data"
    },
    {
     "data": {
      "application/vnd.jupyter.widget-view+json": {
       "model_id": "d4964ad181cb44dfb42ff5f1fbcee669",
       "version_major": 2,
       "version_minor": 0
      },
      "text/plain": [
       "Epoch 23/400 Validation:   0%|          | 0/20 [00:00<?, ?it/s]"
      ]
     },
     "metadata": {},
     "output_type": "display_data"
    },
    {
     "data": {
      "application/vnd.jupyter.widget-view+json": {
       "model_id": "9b52a6061f6a48989816d3fd4b512eab",
       "version_major": 2,
       "version_minor": 0
      },
      "text/plain": [
       "Epoch 24/400 Train:   0%|          | 0/46 [00:00<?, ?it/s]"
      ]
     },
     "metadata": {},
     "output_type": "display_data"
    },
    {
     "data": {
      "application/vnd.jupyter.widget-view+json": {
       "model_id": "8add1dff790b4047995c9b11ce904964",
       "version_major": 2,
       "version_minor": 0
      },
      "text/plain": [
       "Epoch 24/400 Validation:   0%|          | 0/20 [00:00<?, ?it/s]"
      ]
     },
     "metadata": {},
     "output_type": "display_data"
    },
    {
     "data": {
      "application/vnd.jupyter.widget-view+json": {
       "model_id": "f4c396d7377646258395f4ac293d37ed",
       "version_major": 2,
       "version_minor": 0
      },
      "text/plain": [
       "Epoch 25/400 Train:   0%|          | 0/46 [00:00<?, ?it/s]"
      ]
     },
     "metadata": {},
     "output_type": "display_data"
    },
    {
     "data": {
      "application/vnd.jupyter.widget-view+json": {
       "model_id": "94219fdbb88d44dc885235b58f11c89f",
       "version_major": 2,
       "version_minor": 0
      },
      "text/plain": [
       "Epoch 25/400 Validation:   0%|          | 0/20 [00:00<?, ?it/s]"
      ]
     },
     "metadata": {},
     "output_type": "display_data"
    },
    {
     "data": {
      "application/vnd.jupyter.widget-view+json": {
       "model_id": "2f7bef9bf8434be991dd01c23d7acbf2",
       "version_major": 2,
       "version_minor": 0
      },
      "text/plain": [
       "Epoch 26/400 Train:   0%|          | 0/46 [00:00<?, ?it/s]"
      ]
     },
     "metadata": {},
     "output_type": "display_data"
    },
    {
     "data": {
      "application/vnd.jupyter.widget-view+json": {
       "model_id": "3b206bfda7fb4fc3a0b8df4bf3cbad3a",
       "version_major": 2,
       "version_minor": 0
      },
      "text/plain": [
       "Epoch 26/400 Validation:   0%|          | 0/20 [00:00<?, ?it/s]"
      ]
     },
     "metadata": {},
     "output_type": "display_data"
    },
    {
     "data": {
      "application/vnd.jupyter.widget-view+json": {
       "model_id": "50c68f99112a47938985700e3fc061ce",
       "version_major": 2,
       "version_minor": 0
      },
      "text/plain": [
       "Epoch 27/400 Train:   0%|          | 0/46 [00:00<?, ?it/s]"
      ]
     },
     "metadata": {},
     "output_type": "display_data"
    },
    {
     "data": {
      "application/vnd.jupyter.widget-view+json": {
       "model_id": "15cc3ae55d184d05ba92dcc37b65e9e0",
       "version_major": 2,
       "version_minor": 0
      },
      "text/plain": [
       "Epoch 27/400 Validation:   0%|          | 0/20 [00:00<?, ?it/s]"
      ]
     },
     "metadata": {},
     "output_type": "display_data"
    },
    {
     "data": {
      "application/vnd.jupyter.widget-view+json": {
       "model_id": "e74abed034d543ed9c82b0dee9bed0b7",
       "version_major": 2,
       "version_minor": 0
      },
      "text/plain": [
       "Epoch 28/400 Train:   0%|          | 0/46 [00:00<?, ?it/s]"
      ]
     },
     "metadata": {},
     "output_type": "display_data"
    },
    {
     "data": {
      "application/vnd.jupyter.widget-view+json": {
       "model_id": "12770a41e9b34f39b55ab3ee62244cd7",
       "version_major": 2,
       "version_minor": 0
      },
      "text/plain": [
       "Epoch 28/400 Validation:   0%|          | 0/20 [00:00<?, ?it/s]"
      ]
     },
     "metadata": {},
     "output_type": "display_data"
    },
    {
     "data": {
      "application/vnd.jupyter.widget-view+json": {
       "model_id": "9f2697beaa5c4172b366c4a410371e9c",
       "version_major": 2,
       "version_minor": 0
      },
      "text/plain": [
       "Epoch 29/400 Train:   0%|          | 0/46 [00:00<?, ?it/s]"
      ]
     },
     "metadata": {},
     "output_type": "display_data"
    },
    {
     "data": {
      "application/vnd.jupyter.widget-view+json": {
       "model_id": "51c144f554bc41929804cb04e526c87b",
       "version_major": 2,
       "version_minor": 0
      },
      "text/plain": [
       "Epoch 29/400 Validation:   0%|          | 0/20 [00:00<?, ?it/s]"
      ]
     },
     "metadata": {},
     "output_type": "display_data"
    },
    {
     "ename": "KeyboardInterrupt",
     "evalue": "",
     "output_type": "error",
     "traceback": [
      "\u001b[1;31m---------------------------------------------------------------------------\u001b[0m",
      "\u001b[1;31mKeyboardInterrupt\u001b[0m                         Traceback (most recent call last)",
      "Cell \u001b[1;32mIn[1], line 244\u001b[0m\n\u001b[0;32m    242\u001b[0m \u001b[38;5;28;01mfor\u001b[39;00m epoch \u001b[38;5;129;01min\u001b[39;00m \u001b[38;5;28mrange\u001b[39m(start_epoch, end_epoch):\n\u001b[0;32m    243\u001b[0m     train_loss_G, train_loss_D, train_ssim, train_psnr, lr_G, lr_D \u001b[38;5;241m=\u001b[39m train(model, train_loader, device)\n\u001b[1;32m--> 244\u001b[0m     val_loss_G, val_loss_D, val_ssim, val_psnr \u001b[38;5;241m=\u001b[39m \u001b[43mvalidate\u001b[49m\u001b[43m(\u001b[49m\u001b[43mmodel\u001b[49m\u001b[43m,\u001b[49m\u001b[43m \u001b[49m\u001b[43mtest_loader\u001b[49m\u001b[43m,\u001b[49m\u001b[43m \u001b[49m\u001b[43mdevice\u001b[49m\u001b[43m)\u001b[49m\n\u001b[0;32m    246\u001b[0m     model\u001b[38;5;241m.\u001b[39mstep_schedulers(val_loss_G, val_loss_D)\n\u001b[0;32m    248\u001b[0m     \u001b[38;5;66;03m# memory_allocated = torch.cuda.memory_allocated(device) / (1024 ** 2)  # В мегабайтах\u001b[39;00m\n\u001b[0;32m    249\u001b[0m     \u001b[38;5;66;03m# memory_reserved = torch.cuda.memory_reserved(device) / (1024 ** 2)   # В мегабайтах\u001b[39;00m\n",
      "File \u001b[1;32mc:\\Users\\tiruu\\AppData\\Local\\Programs\\Python\\Python39\\lib\\site-packages\\torch\\utils\\_contextlib.py:116\u001b[0m, in \u001b[0;36mcontext_decorator.<locals>.decorate_context\u001b[1;34m(*args, **kwargs)\u001b[0m\n\u001b[0;32m    113\u001b[0m \u001b[38;5;129m@functools\u001b[39m\u001b[38;5;241m.\u001b[39mwraps(func)\n\u001b[0;32m    114\u001b[0m \u001b[38;5;28;01mdef\u001b[39;00m\u001b[38;5;250m \u001b[39m\u001b[38;5;21mdecorate_context\u001b[39m(\u001b[38;5;241m*\u001b[39margs, \u001b[38;5;241m*\u001b[39m\u001b[38;5;241m*\u001b[39mkwargs):\n\u001b[0;32m    115\u001b[0m     \u001b[38;5;28;01mwith\u001b[39;00m ctx_factory():\n\u001b[1;32m--> 116\u001b[0m         \u001b[38;5;28;01mreturn\u001b[39;00m func(\u001b[38;5;241m*\u001b[39margs, \u001b[38;5;241m*\u001b[39m\u001b[38;5;241m*\u001b[39mkwargs)\n",
      "Cell \u001b[1;32mIn[1], line 50\u001b[0m, in \u001b[0;36mvalidate\u001b[1;34m(model, val_loader, device)\u001b[0m\n\u001b[0;32m     48\u001b[0m val_loss_G_history, val_loss_D_history, val_ssim_history, val_psnr_history, \u001b[38;5;241m=\u001b[39m [], [], [], []\n\u001b[0;32m     49\u001b[0m \u001b[38;5;28;01mfor\u001b[39;00m real_A, real_B \u001b[38;5;129;01min\u001b[39;00m pbar:\n\u001b[1;32m---> 50\u001b[0m     val_loss_G, val_loss_D, val_ssim, val_psnr \u001b[38;5;241m=\u001b[39m \u001b[43mmodel\u001b[49m\u001b[38;5;241;43m.\u001b[39;49m\u001b[43mval_step\u001b[49m\u001b[43m(\u001b[49m\u001b[43mreal_A\u001b[49m\u001b[43m,\u001b[49m\u001b[43m \u001b[49m\u001b[43mreal_B\u001b[49m\u001b[43m)\u001b[49m\n\u001b[0;32m     52\u001b[0m     val_loss_G_history\u001b[38;5;241m.\u001b[39mappend(val_loss_G)\n\u001b[0;32m     53\u001b[0m     val_loss_D_history\u001b[38;5;241m.\u001b[39mappend(val_loss_D)\n",
      "File \u001b[1;32mc:\\Users\\tiruu\\sar2opt\\models\\Pix2Pix_youtube.py:362\u001b[0m, in \u001b[0;36mPix2PixGAN.val_step\u001b[1;34m(self, real_A, real_B)\u001b[0m\n\u001b[0;32m    359\u001b[0m loss_D \u001b[38;5;241m=\u001b[39m (loss_D_real \u001b[38;5;241m+\u001b[39m loss_D_fake) \u001b[38;5;241m*\u001b[39m \u001b[38;5;241m0.5\u001b[39m\n\u001b[0;32m    361\u001b[0m \u001b[38;5;66;03m# Вычисляем PSNR и SSIM\u001b[39;00m\n\u001b[1;32m--> 362\u001b[0m psnr_value \u001b[38;5;241m=\u001b[39m \u001b[38;5;28;43mself\u001b[39;49m\u001b[38;5;241;43m.\u001b[39;49m\u001b[43mpsnr\u001b[49m\u001b[43m(\u001b[49m\u001b[43mfake_B\u001b[49m\u001b[43m,\u001b[49m\u001b[43m \u001b[49m\u001b[43mreal_B\u001b[49m\u001b[43m)\u001b[49m  \u001b[38;5;66;03m# Оцениваем на первом изображении в батче\u001b[39;00m\n\u001b[0;32m    363\u001b[0m ssim_value \u001b[38;5;241m=\u001b[39m \u001b[38;5;28mself\u001b[39m\u001b[38;5;241m.\u001b[39mssim(fake_B, real_B)\n\u001b[0;32m    365\u001b[0m \u001b[38;5;28;01mreturn\u001b[39;00m loss_G_L1\u001b[38;5;241m.\u001b[39mitem(), loss_D\u001b[38;5;241m.\u001b[39mitem(), ssim_value\u001b[38;5;241m.\u001b[39mitem(), psnr_value\u001b[38;5;241m.\u001b[39mitem()\n",
      "File \u001b[1;32mc:\\Users\\tiruu\\AppData\\Local\\Programs\\Python\\Python39\\lib\\site-packages\\torch\\nn\\modules\\module.py:1736\u001b[0m, in \u001b[0;36mModule._wrapped_call_impl\u001b[1;34m(self, *args, **kwargs)\u001b[0m\n\u001b[0;32m   1734\u001b[0m     \u001b[38;5;28;01mreturn\u001b[39;00m \u001b[38;5;28mself\u001b[39m\u001b[38;5;241m.\u001b[39m_compiled_call_impl(\u001b[38;5;241m*\u001b[39margs, \u001b[38;5;241m*\u001b[39m\u001b[38;5;241m*\u001b[39mkwargs)  \u001b[38;5;66;03m# type: ignore[misc]\u001b[39;00m\n\u001b[0;32m   1735\u001b[0m \u001b[38;5;28;01melse\u001b[39;00m:\n\u001b[1;32m-> 1736\u001b[0m     \u001b[38;5;28;01mreturn\u001b[39;00m \u001b[38;5;28mself\u001b[39m\u001b[38;5;241m.\u001b[39m_call_impl(\u001b[38;5;241m*\u001b[39margs, \u001b[38;5;241m*\u001b[39m\u001b[38;5;241m*\u001b[39mkwargs)\n",
      "File \u001b[1;32mc:\\Users\\tiruu\\AppData\\Local\\Programs\\Python\\Python39\\lib\\site-packages\\torch\\nn\\modules\\module.py:1747\u001b[0m, in \u001b[0;36mModule._call_impl\u001b[1;34m(self, *args, **kwargs)\u001b[0m\n\u001b[0;32m   1742\u001b[0m \u001b[38;5;66;03m# If we don't have any hooks, we want to skip the rest of the logic in\u001b[39;00m\n\u001b[0;32m   1743\u001b[0m \u001b[38;5;66;03m# this function, and just call forward.\u001b[39;00m\n\u001b[0;32m   1744\u001b[0m \u001b[38;5;28;01mif\u001b[39;00m \u001b[38;5;129;01mnot\u001b[39;00m (\u001b[38;5;28mself\u001b[39m\u001b[38;5;241m.\u001b[39m_backward_hooks \u001b[38;5;129;01mor\u001b[39;00m \u001b[38;5;28mself\u001b[39m\u001b[38;5;241m.\u001b[39m_backward_pre_hooks \u001b[38;5;129;01mor\u001b[39;00m \u001b[38;5;28mself\u001b[39m\u001b[38;5;241m.\u001b[39m_forward_hooks \u001b[38;5;129;01mor\u001b[39;00m \u001b[38;5;28mself\u001b[39m\u001b[38;5;241m.\u001b[39m_forward_pre_hooks\n\u001b[0;32m   1745\u001b[0m         \u001b[38;5;129;01mor\u001b[39;00m _global_backward_pre_hooks \u001b[38;5;129;01mor\u001b[39;00m _global_backward_hooks\n\u001b[0;32m   1746\u001b[0m         \u001b[38;5;129;01mor\u001b[39;00m _global_forward_hooks \u001b[38;5;129;01mor\u001b[39;00m _global_forward_pre_hooks):\n\u001b[1;32m-> 1747\u001b[0m     \u001b[38;5;28;01mreturn\u001b[39;00m forward_call(\u001b[38;5;241m*\u001b[39margs, \u001b[38;5;241m*\u001b[39m\u001b[38;5;241m*\u001b[39mkwargs)\n\u001b[0;32m   1749\u001b[0m result \u001b[38;5;241m=\u001b[39m \u001b[38;5;28;01mNone\u001b[39;00m\n\u001b[0;32m   1750\u001b[0m called_always_called_hooks \u001b[38;5;241m=\u001b[39m \u001b[38;5;28mset\u001b[39m()\n",
      "File \u001b[1;32mc:\\Users\\tiruu\\AppData\\Local\\Programs\\Python\\Python39\\lib\\site-packages\\torchmetrics\\metric.py:316\u001b[0m, in \u001b[0;36mMetric.forward\u001b[1;34m(self, *args, **kwargs)\u001b[0m\n\u001b[0;32m    314\u001b[0m     \u001b[38;5;28mself\u001b[39m\u001b[38;5;241m.\u001b[39m_forward_cache \u001b[38;5;241m=\u001b[39m \u001b[38;5;28mself\u001b[39m\u001b[38;5;241m.\u001b[39m_forward_full_state_update(\u001b[38;5;241m*\u001b[39margs, \u001b[38;5;241m*\u001b[39m\u001b[38;5;241m*\u001b[39mkwargs)\n\u001b[0;32m    315\u001b[0m \u001b[38;5;28;01melse\u001b[39;00m:\n\u001b[1;32m--> 316\u001b[0m     \u001b[38;5;28mself\u001b[39m\u001b[38;5;241m.\u001b[39m_forward_cache \u001b[38;5;241m=\u001b[39m \u001b[38;5;28mself\u001b[39m\u001b[38;5;241m.\u001b[39m_forward_reduce_state_update(\u001b[38;5;241m*\u001b[39margs, \u001b[38;5;241m*\u001b[39m\u001b[38;5;241m*\u001b[39mkwargs)\n\u001b[0;32m    318\u001b[0m \u001b[38;5;28;01mreturn\u001b[39;00m \u001b[38;5;28mself\u001b[39m\u001b[38;5;241m.\u001b[39m_forward_cache\n",
      "File \u001b[1;32mc:\\Users\\tiruu\\AppData\\Local\\Programs\\Python\\Python39\\lib\\site-packages\\torchmetrics\\metric.py:385\u001b[0m, in \u001b[0;36mMetric._forward_reduce_state_update\u001b[1;34m(self, *args, **kwargs)\u001b[0m\n\u001b[0;32m    382\u001b[0m \u001b[38;5;28mself\u001b[39m\u001b[38;5;241m.\u001b[39m_enable_grad \u001b[38;5;241m=\u001b[39m \u001b[38;5;28;01mTrue\u001b[39;00m  \u001b[38;5;66;03m# allow grads for batch computation\u001b[39;00m\n\u001b[0;32m    384\u001b[0m \u001b[38;5;66;03m# calculate batch state and compute batch value\u001b[39;00m\n\u001b[1;32m--> 385\u001b[0m \u001b[38;5;28mself\u001b[39m\u001b[38;5;241m.\u001b[39mupdate(\u001b[38;5;241m*\u001b[39margs, \u001b[38;5;241m*\u001b[39m\u001b[38;5;241m*\u001b[39mkwargs)\n\u001b[0;32m    386\u001b[0m batch_val \u001b[38;5;241m=\u001b[39m \u001b[38;5;28mself\u001b[39m\u001b[38;5;241m.\u001b[39mcompute()\n\u001b[0;32m    388\u001b[0m \u001b[38;5;66;03m# reduce batch and global state\u001b[39;00m\n",
      "File \u001b[1;32mc:\\Users\\tiruu\\AppData\\Local\\Programs\\Python\\Python39\\lib\\site-packages\\torchmetrics\\metric.py:550\u001b[0m, in \u001b[0;36mMetric._wrap_update.<locals>.wrapped_func\u001b[1;34m(*args, **kwargs)\u001b[0m\n\u001b[0;32m    548\u001b[0m \u001b[38;5;28;01mwith\u001b[39;00m torch\u001b[38;5;241m.\u001b[39mset_grad_enabled(\u001b[38;5;28mself\u001b[39m\u001b[38;5;241m.\u001b[39m_enable_grad):\n\u001b[0;32m    549\u001b[0m     \u001b[38;5;28;01mtry\u001b[39;00m:\n\u001b[1;32m--> 550\u001b[0m         update(\u001b[38;5;241m*\u001b[39margs, \u001b[38;5;241m*\u001b[39m\u001b[38;5;241m*\u001b[39mkwargs)\n\u001b[0;32m    551\u001b[0m     \u001b[38;5;28;01mexcept\u001b[39;00m \u001b[38;5;167;01mRuntimeError\u001b[39;00m \u001b[38;5;28;01mas\u001b[39;00m err:\n\u001b[0;32m    552\u001b[0m         \u001b[38;5;28;01mif\u001b[39;00m \u001b[38;5;124m\"\u001b[39m\u001b[38;5;124mExpected all tensors to be on\u001b[39m\u001b[38;5;124m\"\u001b[39m \u001b[38;5;129;01min\u001b[39;00m \u001b[38;5;28mstr\u001b[39m(err):\n",
      "File \u001b[1;32mc:\\Users\\tiruu\\AppData\\Local\\Programs\\Python\\Python39\\lib\\site-packages\\torchmetrics\\image\\psnr.py:133\u001b[0m, in \u001b[0;36mPeakSignalNoiseRatio.update\u001b[1;34m(self, preds, target)\u001b[0m\n\u001b[0;32m    130\u001b[0m     preds \u001b[38;5;241m=\u001b[39m \u001b[38;5;28mself\u001b[39m\u001b[38;5;241m.\u001b[39mclamping_fn(preds)\n\u001b[0;32m    131\u001b[0m     target \u001b[38;5;241m=\u001b[39m \u001b[38;5;28mself\u001b[39m\u001b[38;5;241m.\u001b[39mclamping_fn(target)\n\u001b[1;32m--> 133\u001b[0m sum_squared_error, num_obs \u001b[38;5;241m=\u001b[39m \u001b[43m_psnr_update\u001b[49m\u001b[43m(\u001b[49m\u001b[43mpreds\u001b[49m\u001b[43m,\u001b[49m\u001b[43m \u001b[49m\u001b[43mtarget\u001b[49m\u001b[43m,\u001b[49m\u001b[43m \u001b[49m\u001b[43mdim\u001b[49m\u001b[38;5;241;43m=\u001b[39;49m\u001b[38;5;28;43mself\u001b[39;49m\u001b[38;5;241;43m.\u001b[39;49m\u001b[43mdim\u001b[49m\u001b[43m)\u001b[49m\n\u001b[0;32m    134\u001b[0m \u001b[38;5;28;01mif\u001b[39;00m \u001b[38;5;28mself\u001b[39m\u001b[38;5;241m.\u001b[39mdim \u001b[38;5;129;01mis\u001b[39;00m \u001b[38;5;28;01mNone\u001b[39;00m:\n\u001b[0;32m    135\u001b[0m     \u001b[38;5;28;01mif\u001b[39;00m \u001b[38;5;28mself\u001b[39m\u001b[38;5;241m.\u001b[39mdata_range \u001b[38;5;129;01mis\u001b[39;00m \u001b[38;5;28;01mNone\u001b[39;00m:\n\u001b[0;32m    136\u001b[0m         \u001b[38;5;66;03m# keep track of min and max target values\u001b[39;00m\n",
      "File \u001b[1;32mc:\\Users\\tiruu\\AppData\\Local\\Programs\\Python\\Python39\\lib\\site-packages\\torchmetrics\\functional\\image\\psnr.py:79\u001b[0m, in \u001b[0;36m_psnr_update\u001b[1;34m(preds, target, dim)\u001b[0m\n\u001b[0;32m     77\u001b[0m \u001b[38;5;28;01mif\u001b[39;00m dim \u001b[38;5;129;01mis\u001b[39;00m \u001b[38;5;28;01mNone\u001b[39;00m:\n\u001b[0;32m     78\u001b[0m     sum_squared_error \u001b[38;5;241m=\u001b[39m torch\u001b[38;5;241m.\u001b[39msum(torch\u001b[38;5;241m.\u001b[39mpow(preds \u001b[38;5;241m-\u001b[39m target, \u001b[38;5;241m2\u001b[39m))\n\u001b[1;32m---> 79\u001b[0m     num_obs \u001b[38;5;241m=\u001b[39m \u001b[43mtensor\u001b[49m\u001b[43m(\u001b[49m\u001b[43mtarget\u001b[49m\u001b[38;5;241;43m.\u001b[39;49m\u001b[43mnumel\u001b[49m\u001b[43m(\u001b[49m\u001b[43m)\u001b[49m\u001b[43m,\u001b[49m\u001b[43m \u001b[49m\u001b[43mdevice\u001b[49m\u001b[38;5;241;43m=\u001b[39;49m\u001b[43mtarget\u001b[49m\u001b[38;5;241;43m.\u001b[39;49m\u001b[43mdevice\u001b[49m\u001b[43m)\u001b[49m\n\u001b[0;32m     80\u001b[0m     \u001b[38;5;28;01mreturn\u001b[39;00m sum_squared_error, num_obs\n\u001b[0;32m     82\u001b[0m diff \u001b[38;5;241m=\u001b[39m preds \u001b[38;5;241m-\u001b[39m target\n",
      "\u001b[1;31mKeyboardInterrupt\u001b[0m: "
     ]
    }
   ],
   "source": [
    "import os\n",
    "import torch\n",
    "import matplotlib.pyplot as plt\n",
    "from tqdm.notebook import tqdm\n",
    "from models.Pix2Pix_youtube import Pix2PixGAN\n",
    "from utils.Dataset import *\n",
    "from utils.lossTracker import save_losses, load_losses\n",
    "import matplotlib.gridspec as gridspec\n",
    "from utils.ConfigLoader import ConfigLoader\n",
    "config = ConfigLoader()\n",
    "import torchvision\n",
    "\n",
    "import torch.profiler\n",
    "from torch.utils.tensorboard import SummaryWriter\n",
    "writer = SummaryWriter()  # Инициализация логгера\n",
    "\n",
    "def train(model, train_loader, device):\n",
    "    with tqdm(train_loader, desc=f\"Epoch {epoch+1}/{end_epoch} Train\", leave=False) as pbar:\n",
    "        train_loss_G_history, train_loss_D_history, train_ssim_history, train_psnr_history = [], [], [], []\n",
    "        for real_A, real_B in pbar:\n",
    "            train_loss_G, train_loss_D, train_ssim, train_psnr = model.train_step(real_A.to(device), real_B.to(device))\n",
    "            pbar.set_postfix({\n",
    "                \"Loss D\": train_loss_D,\n",
    "                \"Loss G\": train_loss_G,\n",
    "                \"LR D\": model.optimizer_D.param_groups[0]['lr'],\n",
    "                \"LR G\": model.optimizer_G.param_groups[0]['lr'],\n",
    "            })\n",
    "            train_loss_G_history.append(train_loss_G)\n",
    "            train_loss_D_history.append(train_loss_D)\n",
    "            train_ssim_history.append(train_ssim)\n",
    "            train_psnr_history.append(train_psnr)\n",
    "    return (torch.mean(torch.tensor(train_loss_G)),\n",
    "            torch.mean(torch.tensor(train_loss_D)),\n",
    "            torch.mean(torch.tensor(train_ssim_history)),\n",
    "            torch.mean(torch.tensor(train_psnr_history)),\n",
    "            model.optimizer_G.param_groups[0]['lr'],\n",
    "            model.optimizer_D.param_groups[0]['lr'])\n",
    "\n",
    "@torch.no_grad()\n",
    "def validate(model, val_loader, device):\n",
    "    \"\"\"\n",
    "    Валидационный цикл для оценки модели на валидационном датасете.\n",
    "    \"\"\"\n",
    "    model.generator.eval()  # Перевод генератора в режим валидации\n",
    "    model.discriminator.eval()  # Перевод дискриминатора в режим валидации\n",
    "\n",
    "    with tqdm(val_loader, desc=f\"Epoch {epoch+1}/{end_epoch} Validation\", leave=False) as pbar:\n",
    "        val_loss_G_history, val_loss_D_history, val_ssim_history, val_psnr_history, = [], [], [], []\n",
    "        for real_A, real_B in pbar:\n",
    "            val_loss_G, val_loss_D, val_ssim, val_psnr = model.val_step(real_A, real_B)\n",
    "\n",
    "            val_loss_G_history.append(val_loss_G)\n",
    "            val_loss_D_history.append(val_loss_D)\n",
    "            val_ssim_history.append(val_ssim)\n",
    "            val_psnr_history.append(val_psnr)\n",
    "\n",
    "            pbar.set_postfix({\n",
    "                \"Val Loss G\": val_loss_G,\n",
    "                \"Val Loss D\": val_loss_D,\n",
    "                \"Val SSIM\": val_ssim,\n",
    "                \"Val PSNR\": val_psnr\n",
    "            })\n",
    "\n",
    "    return (torch.mean(torch.tensor(val_loss_G)),\n",
    "            torch.mean(torch.tensor(val_loss_D)),\n",
    "            torch.mean(torch.tensor(val_ssim_history)),\n",
    "            torch.mean(torch.tensor(val_psnr_history)))\n",
    "\n",
    "@torch.no_grad()\n",
    "def save_training_images(model, epoch, train_loss_G, train_loss_D, val_loss_G, val_loss_D, save_dir, train_fixed_sar, train_fixed_optical, val_fixed_sar, val_fixed_optical):\n",
    "    \"\"\"\n",
    "    Сохраняет графики генератора/дискриминатора потерь и фиксированные пять изображений.\n",
    "    \"\"\"\n",
    "    os.makedirs(save_dir, exist_ok=True)\n",
    "\n",
    "    # Генерация фиксированных изображений\n",
    "    train_generated = model.generator(train_fixed_sar.to(device))\n",
    "    val_generated = model.generator(val_fixed_sar.to(device))\n",
    "\n",
    "    # Move tensors to CPU for visualization and ensure same device\n",
    "    train_fixed_sar = train_fixed_sar.cpu().repeat(1, 3, 1, 1)\n",
    "    train_generated = train_generated.cpu()\n",
    "    train_fixed_optical = train_fixed_optical.cpu()\n",
    "    val_fixed_sar = val_fixed_sar.cpu().repeat(1, 3, 1, 1)\n",
    "    val_generated = val_generated.cpu()\n",
    "    val_fixed_optical = val_fixed_optical.cpu()\n",
    "\n",
    "    # Log generated images to TensorBoard\n",
    "    train_grid = torchvision.utils.make_grid(\n",
    "        torch.cat([\n",
    "            train_fixed_sar, \n",
    "            train_generated,\n",
    "            train_fixed_optical\n",
    "        ], dim=0),\n",
    "        nrow=5,\n",
    "        normalize=True\n",
    "    )\n",
    "\n",
    "    val_grid = torchvision.utils.make_grid(\n",
    "        torch.cat([\n",
    "            val_fixed_sar,\n",
    "            val_generated, \n",
    "            val_fixed_optical\n",
    "        ], dim=0),\n",
    "        nrow=5, \n",
    "        normalize=True\n",
    "    )\n",
    "\n",
    "    fig = plt.figure(figsize=(30, 40))\n",
    "    gs = gridspec.GridSpec(7, 6, figure=fig)\n",
    "\n",
    "    fig.suptitle(f\"Epoch: {epoch+1}, G lr: {model.optimizer_D.param_groups[0]['lr']}, D lr: {model.optimizer_G.param_groups[0]['lr']}\", fontsize=16)  # y задает отступ сверху\n",
    "\n",
    "    # График потерь генератора\n",
    "    ax1 = fig.add_subplot(gs[0, :3])\n",
    "    ax1.plot(range(1, len(train_loss_G) + 1), train_loss_G, label=\"Train Generator Loss\", color=\"#3b82f6\")\n",
    "    ax1.set_title(\"Train Generator Loss\")\n",
    "    ax1.set_xlabel(\"Epochs\")\n",
    "    ax1.set_ylabel(\"Loss\")\n",
    "    ax1.grid()\n",
    "    ax1.legend()\n",
    "\n",
    "    # График потерь дискриминатора\n",
    "    ax2 = fig.add_subplot(gs[1, :3])\n",
    "    ax2.plot(range(1, len(train_loss_D) + 1), train_loss_D, label=\"Train Discriminator Loss\", color=\"#ef4444\")\n",
    "    ax2.set_title(\"Train Discriminator Loss\")\n",
    "    ax2.set_xlabel(\"Epochs\")\n",
    "    ax2.set_ylabel(\"Loss\")\n",
    "    ax2.grid()\n",
    "    ax2.legend()\n",
    "\n",
    "    ax3 = fig.add_subplot(gs[0, 3:])\n",
    "    ax3.plot(range(1, len(val_loss_G) + 1), val_loss_G, label=\"Val Generator Loss\", color=\"#22c55e\")\n",
    "    ax3.set_title(\"Validation Generator Loss\")\n",
    "    ax3.set_xlabel(\"Epochs\")\n",
    "    ax3.set_ylabel(\"Loss\")\n",
    "    ax3.grid()\n",
    "    ax3.legend()\n",
    "\n",
    "    ax4 = fig.add_subplot(gs[1, 3:])\n",
    "    ax4.plot(range(1, len(val_loss_D) + 1), val_loss_D, label=\"Val Discriminator Loss\", color=\"#f59e0b\")\n",
    "    ax4.set_title(\"Validation Discriminator Loss\")\n",
    "    ax4.set_xlabel(\"Epochs\")\n",
    "    ax4.set_ylabel(\"Loss\")\n",
    "    ax4.grid()\n",
    "    ax4.legend()\n",
    "\n",
    "    # Добавляем изображения: SAR, Generated, Target\n",
    "    for i in range(5):\n",
    "        # SAR Image\n",
    "        ax_sar = fig.add_subplot(gs[2 + i, 0])\n",
    "        sar_image = train_fixed_sar[i, 0, :, :].cpu().detach().numpy()\n",
    "        ax_sar.imshow(sar_image * 0.5 + 0.5, cmap='gray')\n",
    "        ax_sar.set_title(f\"Train SAR Image {i+1}\")\n",
    "        ax_sar.axis('off')\n",
    "\n",
    "        # Generated Image\n",
    "        ax_gen = fig.add_subplot(gs[2 + i, 1])\n",
    "        generated_image = train_generated[i].permute(1, 2, 0).cpu().detach().numpy()\n",
    "        ax_gen.imshow((generated_image * 0.5 + 0.5))\n",
    "        ax_gen.set_title(f\"Train Generated Image {i+1}\")\n",
    "        ax_gen.axis('off')\n",
    "\n",
    "        # Target Image\n",
    "        ax_opt = fig.add_subplot(gs[2 + i, 2])\n",
    "        optical_image = train_fixed_optical[i].permute(1, 2, 0).cpu().detach().numpy()\n",
    "        ax_opt.imshow((optical_image * 0.5 + 0.5))\n",
    "        ax_opt.set_title(f\"Train Target Image {i+1}\")\n",
    "        ax_opt.axis('off')\n",
    "\n",
    "        # SAR Image\n",
    "        ax_sar = fig.add_subplot(gs[2 + i, 3])\n",
    "        sar_image = val_fixed_sar[i, 0, :, :].cpu().detach().numpy()\n",
    "        ax_sar.imshow(sar_image * 0.5 + 0.5, cmap='gray')\n",
    "        ax_sar.set_title(f\"Val SAR Image {i+1}\")\n",
    "        ax_sar.axis('off')\n",
    "\n",
    "        # Generated Image\n",
    "        ax_gen = fig.add_subplot(gs[2 + i, 4])\n",
    "        generated_image = val_generated[i].permute(1, 2, 0).cpu().detach().numpy()\n",
    "        ax_gen.imshow((generated_image * 0.5 + 0.5))\n",
    "        ax_gen.set_title(f\"Val Generated Image {i+1}\")\n",
    "        ax_gen.axis('off')\n",
    "\n",
    "        # Target Image\n",
    "        ax_opt = fig.add_subplot(gs[2 + i, 5])\n",
    "        optical_image = val_fixed_optical[i].permute(1, 2, 0).cpu().detach().numpy()\n",
    "        ax_opt.imshow((optical_image * 0.5 + 0.5))\n",
    "        ax_opt.set_title(f\"Val Target Image {i+1}\")\n",
    "        ax_opt.axis('off')\n",
    "\n",
    "    # Настройка расстояний между элементами\n",
    "    plt.tight_layout()\n",
    "\n",
    "    # Сохранение итогового изображения\n",
    "    save_path = os.path.join(save_dir, f\"epoch_{epoch+1}_images.png\")\n",
    "    plt.savefig(save_path)\n",
    "    plt.close(fig)\n",
    "    return train_grid, val_grid\n",
    "\n",
    "\n",
    "# Устройство для вычислений\n",
    "device = torch.device(\"cuda\" if torch.cuda.is_available() else \"mps\" if torch.mps.is_available() else \"cpu\")\n",
    "print(f'Using {device}')\n",
    "torch.backends.cuda.matmul.allow_tf32 = True\n",
    "torch.backends.cudnn.allow_tf32 = True\n",
    "\n",
    "# Получаем 5 первых изображений из тренировочного загрузчика\n",
    "train_iterator = iter(train_loader)  # Создаем итератор для train_loader\n",
    "fixed_batch = next(train_iterator)  # Получаем первый batch\n",
    "train_fixed_sar, train_fixed_optical = fixed_batch[0][:5], fixed_batch[1][:5]  # Берем 5 первых изображений\n",
    "\n",
    "test_iterator = iter(test_loader)  # Создаем итератор для train_loader\n",
    "fixed_batch = next(test_iterator)  # Получаем первый batch\n",
    "val_fixed_sar, val_fixed_optical = fixed_batch[0][:5], fixed_batch[1][:5]  # Берем 5 первых изображений\n",
    "\n",
    "\n",
    "# Создание модели\n",
    "model = Pix2PixGAN(device)\n",
    "\n",
    "# Загрузка модели\n",
    "if config.get('model', 'load_model'):\n",
    "    start_epoch = model.load_state('checkpoint_epoch_100', device)\n",
    "    losses_dict = load_losses()\n",
    "    if losses_dict:\n",
    "        train_G_losses = list(losses_dict['train_G_losses'])\n",
    "        train_D_losses = list(losses_dict['train_D_losses'])\n",
    "        val_G_losses = list(losses_dict['val_G_losses'])\n",
    "        val_D_losses = list(losses_dict['val_D_losses'])\n",
    "else:\n",
    "    start_epoch = 0\n",
    "    train_G_losses = []\n",
    "    train_D_losses = []\n",
    "    val_G_losses = []\n",
    "    val_D_losses = []\n",
    "\n",
    "# Конечная эпоха\n",
    "end_epoch = config.get('model', 'end_epoch')\n",
    "torch.backends.cudnn.benchmark = True\n",
    "\n",
    "# Обучение модели\n",
    "for epoch in range(start_epoch, end_epoch):\n",
    "    train_loss_G, train_loss_D, train_ssim, train_psnr, lr_G, lr_D = train(model, train_loader, device)\n",
    "    val_loss_G, val_loss_D, val_ssim, val_psnr = validate(model, test_loader, device)\n",
    "\n",
    "    model.step_schedulers(val_loss_G, val_loss_D)\n",
    "\n",
    "    # memory_allocated = torch.cuda.memory_allocated(device) / (1024 ** 2)  # В мегабайтах\n",
    "    # memory_reserved = torch.cuda.memory_reserved(device) / (1024 ** 2)   # В мегабайтах\n",
    "\n",
    "    train_G_losses.append(train_loss_G)\n",
    "    train_D_losses.append(train_loss_D)\n",
    "    val_G_losses.append(val_loss_G)\n",
    "    val_D_losses.append(val_loss_D)\n",
    "\n",
    "    if writer:\n",
    "        writer.add_scalar(\"Train/Loss_G\", train_loss_G.item(), epoch + 1)\n",
    "        writer.add_scalar(\"Train/Loss_D\", train_loss_D.item(), epoch + 1)\n",
    "        writer.add_scalar(\"Train/PSNR\", train_psnr.item(), epoch + 1)\n",
    "        writer.add_scalar(\"Train/SSIM\", train_ssim.item(), epoch + 1)\n",
    "        writer.add_scalar(\"Train/Learning_Rate_G\", lr_G, epoch + 1)\n",
    "        writer.add_scalar(\"Train/Learning_Rate_D\", lr_D, epoch + 1)\n",
    "\n",
    "        writer.add_scalar(\"Val/Loss_G\", val_loss_G.item(), epoch + 1)\n",
    "        writer.add_scalar(\"Val/Loss_D\", val_loss_D.item(), epoch + 1)\n",
    "        writer.add_scalar(\"Val/PSNR\", val_psnr.item(), epoch + 1)\n",
    "        writer.add_scalar(\"Val/SSIM\", val_ssim.item(), epoch + 1)\n",
    "\n",
    "        # Логгирование памяти в TensorBoard\n",
    "        # writer.add_scalar(\"Performance/Memory_Allocated_MB\", memory_allocated, global_step=epoch)\n",
    "        # writer.add_scalar(\"Performance/Memory_Reserved_MB\", memory_reserved, global_step=epoch)\n",
    "\n",
    "    # Сохранение модели и метрик\n",
    "    if (epoch + 1) % 50 == 0:\n",
    "        # model.save_state(epoch, save_dir=config.get('paths', 'model_save_dir'))\n",
    "        save_losses(\n",
    "            train_G_losses=train_G_losses,\n",
    "            train_D_losses=train_D_losses,\n",
    "            val_G_losses=val_G_losses,\n",
    "            val_D_losses=val_D_losses\n",
    "        )\n",
    "\n",
    "    # Сохранение изображений каждые 20 эпох\n",
    "    if (epoch + 1) % 20 == 0:\n",
    "        train_grid, val_grid = save_training_images(\n",
    "            model,\n",
    "            epoch,\n",
    "            train_G_losses,\n",
    "            train_D_losses,\n",
    "            val_G_losses,\n",
    "            val_D_losses,\n",
    "            config.get('paths', 'image_save_dir'),\n",
    "            train_fixed_sar, train_fixed_optical,\n",
    "            val_fixed_sar, val_fixed_optical\n",
    "        )\n",
    "        writer.add_image('Train/Train_Images', train_grid, global_step=epoch+1)\n",
    "        writer.add_image('Val/Val_Images', val_grid, global_step=epoch+1)"
   ]
  },
  {
   "cell_type": "code",
   "execution_count": null,
   "metadata": {},
   "outputs": [],
   "source": []
  }
 ],
 "metadata": {
  "kernelspec": {
   "display_name": "Python 3",
   "language": "python",
   "name": "python3"
  },
  "language_info": {
   "codemirror_mode": {
    "name": "ipython",
    "version": 3
   },
   "file_extension": ".py",
   "mimetype": "text/x-python",
   "name": "python",
   "nbconvert_exporter": "python",
   "pygments_lexer": "ipython3",
   "version": "3.9.0"
  }
 },
 "nbformat": 4,
 "nbformat_minor": 2
}
