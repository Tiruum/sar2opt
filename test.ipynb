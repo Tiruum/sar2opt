{
 "cells": [
  {
   "cell_type": "code",
   "execution_count": null,
   "metadata": {},
   "outputs": [
    {
     "name": "stdout",
     "output_type": "stream",
     "text": [
      "Using cuda\n"
     ]
    },
    {
     "data": {
      "application/vnd.jupyter.widget-view+json": {
       "model_id": "fa8f3481cf6742e186f908d2ba66b5c7",
       "version_major": 2,
       "version_minor": 0
      },
      "text/plain": [
       "Epoch 1/4:   0%|          | 0/182 [00:00<?, ?it/s]"
      ]
     },
     "metadata": {},
     "output_type": "display_data"
    },
    {
     "data": {
      "application/vnd.jupyter.widget-view+json": {
       "model_id": "8d4e2816b2c84e378d418bf011fe5e16",
       "version_major": 2,
       "version_minor": 0
      },
      "text/plain": [
       "Epoch 2/4:   0%|          | 0/182 [00:00<?, ?it/s]"
      ]
     },
     "metadata": {},
     "output_type": "display_data"
    }
   ],
   "source": [
    "from models.Pix2Pix import Pix2PixGAN\n",
    "from utils.Dataset import *\n",
    "from utils.lossTracker import save_losses, load_losses\n",
    "from tqdm.notebook import tqdm\n",
    "\n",
    "device = torch.device(\"cuda\" if torch.cuda.is_available() else \"mps\" if torch.mps.is_available() else \"cpu\")\n",
    "print(f'Using {device}')\n",
    "torch.cuda.empty_cache() if torch.cuda.is_available() else torch.mps.empty_cache() if torch.mps.is_available() else None\n",
    "model = Pix2PixGAN(device, max_epochs=400, start_decay_epoch=200)\n",
    "\n",
    "load_model = False\n",
    "if load_model:\n",
    "    start_epoch = model.load_state('checkpoint_epoch_400', device)\n",
    "    losses_dict = load_losses()\n",
    "    if losses_dict:\n",
    "        g_loss = losses_dict['g_loss']\n",
    "        d_loss = losses_dict['d_loss']\n",
    "    g_loss = []\n",
    "    d_loss = []\n",
    "else:\n",
    "    start_epoch = 0\n",
    "    g_loss = []\n",
    "    d_loss = []\n",
    "end_epoch = 399\n",
    "\n",
    "torch.backends.cudnn.benchmark = True\n",
    "\n",
    "for epoch in range(start_epoch, end_epoch):\n",
    "    with tqdm(train_loader, desc=f\"Epoch {epoch+1}/{end_epoch}\", leave=False) as pbar:\n",
    "        for real_A, real_B in pbar:\n",
    "            loss_D, loss_G = model.train_step(real_A, real_B)\n",
    "            pbar.set_postfix({\n",
    "                \"Loss D\": loss_D,\n",
    "                \"Loss G\": loss_G,\n",
    "                \"LR D\": model.optimizer_D.param_groups[0]['lr'],\n",
    "                \"LR G\": model.optimizer_G.param_groups[0]['lr']\n",
    "            })\n",
    "\n",
    "        # Адаптация скорости обучения\n",
    "        model.step_schedulers()\n",
    "\n",
    "        g_loss.append(loss_G)\n",
    "        d_loss.append(loss_D)\n",
    "\n",
    "        if (epoch + 1) % 1 == 0:\n",
    "            model.save_state(epoch)\n",
    "            save_losses(g_loss=g_loss, d_loss=d_loss)\n"
   ]
  },
  {
   "cell_type": "code",
   "execution_count": null,
   "metadata": {},
   "outputs": [],
   "source": []
  }
 ],
 "metadata": {
  "kernelspec": {
   "display_name": "Python 3",
   "language": "python",
   "name": "python3"
  },
  "language_info": {
   "codemirror_mode": {
    "name": "ipython",
    "version": 3
   },
   "file_extension": ".py",
   "mimetype": "text/x-python",
   "name": "python",
   "nbconvert_exporter": "python",
   "pygments_lexer": "ipython3",
   "version": "3.9.13"
  }
 },
 "nbformat": 4,
 "nbformat_minor": 2
}
