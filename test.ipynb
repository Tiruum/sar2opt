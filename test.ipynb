{
 "cells": [
  {
   "cell_type": "code",
   "execution_count": 1,
   "metadata": {},
   "outputs": [
    {
     "name": "stdout",
     "output_type": "stream",
     "text": [
      "torch.Size([1, 1, 256, 256]) + torch.Size([1, 3, 256, 256]) -> torch.Size([1, 1, 30, 30])\n"
     ]
    }
   ],
   "source": [
    "import torch\n",
    "import torch.nn as nn\n",
    "\n",
    "class Discriminator(nn.Module):\n",
    "    \"\"\"\n",
    "    Класс Discriminator представляет собой сверточную нейронную сеть, используемую для различения изображений.\n",
    "    \n",
    "    Аргументы:\n",
    "    in_channels (int): Количество входных каналов. По умолчанию 4 (1 канал для источника и 3 канала для цели).\n",
    "    \n",
    "    Методы:\n",
    "    __init__(self, in_channels=4): Инициализирует слои дискриминатора.\n",
    "    forward(self, src, target): Выполняет прямое распространение через сеть. Объединяет входные изображения (src и target) по каналу и пропускает их через модель.\n",
    "    \n",
    "    Пример использования:\n",
    "    discriminator = Discriminator()\n",
    "    output = discriminator(src_image, target_image)\n",
    "    \"\"\"\n",
    "    def __init__(self, in_channels=4):  # 2 channel source + 3 channels target\n",
    "        super(Discriminator, self).__init__()\n",
    "        def discriminator_block(in_channels, out_channels, stride):\n",
    "            layers = [\n",
    "                nn.Conv2d(in_channels, out_channels, kernel_size=4, stride=stride, padding=1),\n",
    "                nn.BatchNorm2d(out_channels),  # No BN in first layer\n",
    "                nn.LeakyReLU(0.2, inplace=True)\n",
    "            ]\n",
    "            return layers\n",
    "\n",
    "        self.model = nn.Sequential(\n",
    "            # C64: 4x4 kernel, stride 2, padding 1\n",
    "            nn.Conv2d(in_channels, 64, kernel_size=4, stride=2, padding=1),\n",
    "            nn.LeakyReLU(0.2, inplace=True),\n",
    "\n",
    "            # C128: 4x4 kernel, stride 2, padding 1\n",
    "            *discriminator_block(64, 128, stride=2),\n",
    "\n",
    "            # C256: 4x4 kernel, stride 2, padding 1\n",
    "            *discriminator_block(128, 256, stride=2),\n",
    "\n",
    "            # C512: 4x4 kernel, stride 1, padding 1\n",
    "            *discriminator_block(256, 512, stride=1),\n",
    "\n",
    "            # C1: 4x4 kernel, stride 1, padding 1\n",
    "            nn.Conv2d(512, 1, kernel_size=4, stride=1, padding=1),\n",
    "\n",
    "            # Sigmoid activation\n",
    "            nn.Sigmoid()\n",
    "        )\n",
    "\n",
    "\n",
    "    def forward(self, src, target):\n",
    "        x = torch.cat((src, target), dim=1)\n",
    "        return self.model(x)\n",
    "\n",
    "if __name__ == '__main__':\n",
    "    D = Discriminator()\n",
    "    x = torch.randn(1, 1, 256, 256)\n",
    "    target = torch.randn(1, 3, 256, 256)\n",
    "    print(f'{x.shape} + {target.shape} -> {D(x, target).shape}')  # torch.Size([1, 1, 30, 30])\n"
   ]
  },
  {
   "cell_type": "code",
   "execution_count": 2,
   "metadata": {},
   "outputs": [
    {
     "name": "stdout",
     "output_type": "stream",
     "text": [
      "torch.Size([1, 1, 256, 256]) -> torch.Size([1, 3, 256, 256])\n"
     ]
    }
   ],
   "source": [
    "class UNetGenerator(nn.Module):\n",
    "    def __init__(self, input_channels=1, output_channels=3):\n",
    "        super(UNetGenerator, self).__init__()\n",
    "        \n",
    "        def encoder_block(in_channels, out_channels, use_bn=True):\n",
    "            layers = [\n",
    "                nn.Conv2d(in_channels, out_channels, kernel_size=4, stride=2, padding=1),\n",
    "                nn.LeakyReLU(0.2, inplace=True)\n",
    "            ]\n",
    "            if use_bn:\n",
    "                layers.append(nn.BatchNorm2d(out_channels))\n",
    "            return nn.Sequential(*layers)\n",
    "\n",
    "        def decoder_block(in_channels, out_channels, dropout=0):\n",
    "            layers = [\n",
    "                nn.ConvTranspose2d(in_channels, out_channels, kernel_size=4, stride=2, padding=1),\n",
    "                nn.ReLU(inplace=True),\n",
    "                nn.BatchNorm2d(out_channels)\n",
    "            ]\n",
    "            if dropout != 0:\n",
    "                layers.append(nn.Dropout(dropout))\n",
    "            return nn.Sequential(*layers)\n",
    "\n",
    "        def bottleneck_block(in_channels, out_channels):\n",
    "            return nn.Sequential(\n",
    "                nn.Conv2d(in_channels, out_channels, kernel_size=4, stride=2, padding=1),\n",
    "                nn.ReLU(inplace=True),\n",
    "            )\n",
    "\n",
    "        # Encoder\n",
    "        self.enc1 = encoder_block(input_channels, 64, use_bn=False)\n",
    "        self.enc2 = encoder_block(64, 128)\n",
    "        self.enc3 = encoder_block(128, 256)\n",
    "        self.enc4 = encoder_block(256, 512)\n",
    "        self.enc5 = encoder_block(512, 512)\n",
    "        self.enc6 = encoder_block(512, 512)\n",
    "        self.enc7 = encoder_block(512, 512)\n",
    "\n",
    "        self.bottleneck = bottleneck_block(512, 512)\n",
    "\n",
    "        # Decoder\n",
    "        self.dec1 = decoder_block(512, 512, dropout=0.5)\n",
    "        self.dec2 = decoder_block(1024, 512, dropout=0.5)\n",
    "        self.dec3 = decoder_block(1024, 512, dropout=0.5)\n",
    "        self.dec4 = decoder_block(1024, 512)\n",
    "        self.dec5 = decoder_block(1024, 256)\n",
    "        self.dec6 = decoder_block(512, 128)\n",
    "        self.dec7 = decoder_block(256, 64)\n",
    "        self.final = nn.ConvTranspose2d(128, output_channels, kernel_size=4, stride=2, padding=1)\n",
    "\n",
    "    def forward(self, x):\n",
    "        # Encoder\n",
    "        e1 = self.enc1(x)\n",
    "        e2 = self.enc2(e1)\n",
    "        e3 = self.enc3(e2)\n",
    "        e4 = self.enc4(e3)\n",
    "        e5 = self.enc5(e4)\n",
    "        e6 = self.enc6(e5)\n",
    "        e7 = self.enc7(e6)\n",
    "\n",
    "        b = self.bottleneck(e7)\n",
    "\n",
    "        # Decoder + Skip connections\n",
    "        d1 = self.dec1(b)\n",
    "        d2 = self.dec2(torch.cat([d1, e7], dim=1))\n",
    "        d3 = self.dec3(torch.cat([d2, e6], dim=1))\n",
    "        d4 = self.dec4(torch.cat([d3, e5], dim=1))\n",
    "        d5 = self.dec5(torch.cat([d4, e4], dim=1))\n",
    "        d6 = self.dec6(torch.cat([d5, e3], dim=1))\n",
    "        d7 = self.dec7(torch.cat([d6, e2], dim=1))\n",
    "        return torch.tanh(self.final(torch.cat([d7, e1], dim=1)))\n",
    "\n",
    "if __name__ == '__main__':\n",
    "    G = UNetGenerator()\n",
    "    x = torch.randn(1, 1, 256, 256)\n",
    "    print(f'{x.shape} -> {G(x).shape}')  # torch.Size([1, 3, 256, 256])\n"
   ]
  },
  {
   "cell_type": "code",
   "execution_count": 3,
   "metadata": {},
   "outputs": [],
   "source": [
    "from torch.optim.lr_scheduler import ReduceLROnPlateau\n",
    "import torch.nn as nn\n",
    "\n",
    "class Pix2PixGAN(nn.Module):\n",
    "    def __init__(self, device):\n",
    "        super(Pix2PixGAN, self).__init__()\n",
    "        self.device = device\n",
    "        self.generator = UNetGenerator().to(self.device)\n",
    "        self.discriminator = Discriminator().to(self.device)\n",
    "\n",
    "        self.optimizer_G = torch.optim.AdamW(self.generator.parameters(), lr=0.0002, betas=(0.5, 0.999))\n",
    "        self.optimizer_D = torch.optim.AdamW(self.discriminator.parameters(), lr=0.0002, betas=(0.5, 0.999))\n",
    "\n",
    "        self.scheduler_G = ReduceLROnPlateau(self.optimizer_G, mode='min', factor=0.5, patience=10)\n",
    "        self.scheduler_D = ReduceLROnPlateau(self.optimizer_D, mode='min', factor=0.5, patience=10)\n",
    "\n",
    "        self.criterion_GAN = nn.BCEWithLogitsLoss()\n",
    "        self.criterion_L1 = nn.L1Loss()\n",
    "\n",
    "    def train_step(self, real_A, real_B):\n",
    "        real_A, real_B = real_A.to(self.device), real_B.to(self.device)\n",
    "\n",
    "        # Train Discriminator\n",
    "        self.optimizer_D.zero_grad()\n",
    "        fake_B = self.generator(real_A)\n",
    "\n",
    "        # Получаем выходные данные дискриминатора\n",
    "        output_real = self.discriminator(real_A, real_B)\n",
    "        output_fake = self.discriminator(real_A, fake_B.detach())\n",
    "\n",
    "        # Создаем целевые метки\n",
    "        target_real = torch.ones_like(output_real)\n",
    "        target_fake = torch.zeros_like(output_fake)\n",
    "\n",
    "        # Вычисляем потери\n",
    "        loss_D_real = self.criterion_GAN(output_real, target_real)\n",
    "        loss_D_fake = self.criterion_GAN(output_fake, target_fake)\n",
    "        loss_D = (loss_D_real + loss_D_fake) / 2\n",
    "        loss_D.backward()\n",
    "        self.optimizer_D.step()\n",
    "\n",
    "        # Train Generator\n",
    "        self.optimizer_G.zero_grad()\n",
    "        loss_G_GAN = self.criterion_GAN(self.discriminator(real_A, fake_B), torch.ones_like(output_real))\n",
    "        loss_G_L1 = self.criterion_L1(fake_B, real_B) * 100\n",
    "        loss_G = loss_G_GAN + loss_G_L1\n",
    "        loss_G.backward()\n",
    "        self.optimizer_G.step()\n",
    "\n",
    "        return loss_D.item(), loss_G.item()\n",
    "\n",
    "    def step_schedulers(self, loss_G, loss_D):\n",
    "        self.scheduler_G.step(loss_G)\n",
    "        self.scheduler_D.step(loss_D)\n"
   ]
  },
  {
   "cell_type": "code",
   "execution_count": null,
   "metadata": {},
   "outputs": [
    {
     "name": "stdout",
     "output_type": "stream",
     "text": [
      "Using cuda\n"
     ]
    }
   ],
   "source": [
    "from utils.helpers import *\n",
    "from utils.lossTracker import save_losses, load_losses\n",
    "from utils.checkpointLogic import save_checkpoint, load_checkpoint\n",
    "from tqdm.notebook import tqdm\n",
    "\n",
    "device = torch.device(\"cuda\" if torch.cuda.is_available() else \"mps\" if torch.mps.is_available() else \"cpu\")\n",
    "print(f'Using {device}')\n",
    "torch.cuda.empty_cache() if torch.cuda.is_available() else torch.mps.empty_cache() if torch.mps.is_available() else None\n",
    "model = Pix2PixGAN(device)\n",
    "\n",
    "model = torch.nn.DataParallel(model).to(device)\n",
    "\n",
    "\n",
    "load_model = False\n",
    "if load_model:\n",
    "    start_epoch, loss_G, loss_D = load_checkpoint('checkpoint_epoch_400', model, device)\n",
    "    losses_dict = load_losses()\n",
    "    if losses_dict:\n",
    "        g_loss = losses_dict['g_loss']\n",
    "        d_loss = losses_dict['d_loss']\n",
    "    g_loss = []\n",
    "    d_loss = []\n",
    "else:\n",
    "    start_epoch = 0\n",
    "    g_loss = []\n",
    "    d_loss = []"
   ]
  },
  {
   "cell_type": "code",
   "execution_count": null,
   "metadata": {},
   "outputs": [
    {
     "data": {
      "application/vnd.jupyter.widget-view+json": {
       "model_id": "2c686452b8294975bcf181c49b875093",
       "version_major": 2,
       "version_minor": 0
      },
      "text/plain": [
       "Epoch 1/1500:   0%|          | 0/182 [00:00<?, ?it/s]"
      ]
     },
     "metadata": {},
     "output_type": "display_data"
    },
    {
     "data": {
      "application/vnd.jupyter.widget-view+json": {
       "model_id": "ab0a9e38e57c4d5eba28ba10ff96bf13",
       "version_major": 2,
       "version_minor": 0
      },
      "text/plain": [
       "Epoch 2/1500:   0%|          | 0/182 [00:00<?, ?it/s]"
      ]
     },
     "metadata": {},
     "output_type": "display_data"
    },
    {
     "data": {
      "application/vnd.jupyter.widget-view+json": {
       "model_id": "cdf321d3cfbe4a60990fe22e7fc07d77",
       "version_major": 2,
       "version_minor": 0
      },
      "text/plain": [
       "Epoch 3/1500:   0%|          | 0/182 [00:00<?, ?it/s]"
      ]
     },
     "metadata": {},
     "output_type": "display_data"
    },
    {
     "data": {
      "application/vnd.jupyter.widget-view+json": {
       "model_id": "d21fd625ef84410b8d191a37eb52b7ce",
       "version_major": 2,
       "version_minor": 0
      },
      "text/plain": [
       "Epoch 4/1500:   0%|          | 0/182 [00:00<?, ?it/s]"
      ]
     },
     "metadata": {},
     "output_type": "display_data"
    },
    {
     "data": {
      "application/vnd.jupyter.widget-view+json": {
       "model_id": "9f2a637144654cc590b9a00020efd912",
       "version_major": 2,
       "version_minor": 0
      },
      "text/plain": [
       "Epoch 5/1500:   0%|          | 0/182 [00:00<?, ?it/s]"
      ]
     },
     "metadata": {},
     "output_type": "display_data"
    },
    {
     "data": {
      "application/vnd.jupyter.widget-view+json": {
       "model_id": "3a9e4ee2d04d465bbe26fbdc8c4858c4",
       "version_major": 2,
       "version_minor": 0
      },
      "text/plain": [
       "Epoch 6/1500:   0%|          | 0/182 [00:00<?, ?it/s]"
      ]
     },
     "metadata": {},
     "output_type": "display_data"
    },
    {
     "data": {
      "application/vnd.jupyter.widget-view+json": {
       "model_id": "8c424d9684ce4e2fa2da874d044f00d6",
       "version_major": 2,
       "version_minor": 0
      },
      "text/plain": [
       "Epoch 7/1500:   0%|          | 0/182 [00:00<?, ?it/s]"
      ]
     },
     "metadata": {},
     "output_type": "display_data"
    },
    {
     "data": {
      "application/vnd.jupyter.widget-view+json": {
       "model_id": "702c6dbf3f774ea7a2ed079cc56762fc",
       "version_major": 2,
       "version_minor": 0
      },
      "text/plain": [
       "Epoch 8/1500:   0%|          | 0/182 [00:00<?, ?it/s]"
      ]
     },
     "metadata": {},
     "output_type": "display_data"
    },
    {
     "data": {
      "application/vnd.jupyter.widget-view+json": {
       "model_id": "8c478b80291b40a1aee0fd37a4def78b",
       "version_major": 2,
       "version_minor": 0
      },
      "text/plain": [
       "Epoch 9/1500:   0%|          | 0/182 [00:00<?, ?it/s]"
      ]
     },
     "metadata": {},
     "output_type": "display_data"
    },
    {
     "data": {
      "application/vnd.jupyter.widget-view+json": {
       "model_id": "1a7a0fbc5e10416f8d32d5ceb7ba47e9",
       "version_major": 2,
       "version_minor": 0
      },
      "text/plain": [
       "Epoch 10/1500:   0%|          | 0/182 [00:00<?, ?it/s]"
      ]
     },
     "metadata": {},
     "output_type": "display_data"
    },
    {
     "data": {
      "application/vnd.jupyter.widget-view+json": {
       "model_id": "6c99d3e687bc4a15a3c3add42412801e",
       "version_major": 2,
       "version_minor": 0
      },
      "text/plain": [
       "Epoch 11/1500:   0%|          | 0/182 [00:00<?, ?it/s]"
      ]
     },
     "metadata": {},
     "output_type": "display_data"
    },
    {
     "data": {
      "application/vnd.jupyter.widget-view+json": {
       "model_id": "1a6505a217d641249a4ff29a06c8a353",
       "version_major": 2,
       "version_minor": 0
      },
      "text/plain": [
       "Epoch 12/1500:   0%|          | 0/182 [00:00<?, ?it/s]"
      ]
     },
     "metadata": {},
     "output_type": "display_data"
    },
    {
     "data": {
      "application/vnd.jupyter.widget-view+json": {
       "model_id": "4a57c3ce0b07426c966b4f1aef0a4368",
       "version_major": 2,
       "version_minor": 0
      },
      "text/plain": [
       "Epoch 13/1500:   0%|          | 0/182 [00:00<?, ?it/s]"
      ]
     },
     "metadata": {},
     "output_type": "display_data"
    },
    {
     "data": {
      "application/vnd.jupyter.widget-view+json": {
       "model_id": "ff7b16f519064ce89dd356f0fe8c5a34",
       "version_major": 2,
       "version_minor": 0
      },
      "text/plain": [
       "Epoch 14/1500:   0%|          | 0/182 [00:00<?, ?it/s]"
      ]
     },
     "metadata": {},
     "output_type": "display_data"
    },
    {
     "data": {
      "application/vnd.jupyter.widget-view+json": {
       "model_id": "525012fc85f040588eff52ac06d4ae8f",
       "version_major": 2,
       "version_minor": 0
      },
      "text/plain": [
       "Epoch 15/1500:   0%|          | 0/182 [00:00<?, ?it/s]"
      ]
     },
     "metadata": {},
     "output_type": "display_data"
    },
    {
     "data": {
      "application/vnd.jupyter.widget-view+json": {
       "model_id": "2773423f0fee4b089c6c2255e1838465",
       "version_major": 2,
       "version_minor": 0
      },
      "text/plain": [
       "Epoch 16/1500:   0%|          | 0/182 [00:00<?, ?it/s]"
      ]
     },
     "metadata": {},
     "output_type": "display_data"
    },
    {
     "data": {
      "application/vnd.jupyter.widget-view+json": {
       "model_id": "359c0d1b488e49aab41ba94f9106b3d1",
       "version_major": 2,
       "version_minor": 0
      },
      "text/plain": [
       "Epoch 17/1500:   0%|          | 0/182 [00:00<?, ?it/s]"
      ]
     },
     "metadata": {},
     "output_type": "display_data"
    },
    {
     "data": {
      "application/vnd.jupyter.widget-view+json": {
       "model_id": "88cd5dc3594742aabb10c539a2242be1",
       "version_major": 2,
       "version_minor": 0
      },
      "text/plain": [
       "Epoch 18/1500:   0%|          | 0/182 [00:00<?, ?it/s]"
      ]
     },
     "metadata": {},
     "output_type": "display_data"
    },
    {
     "data": {
      "application/vnd.jupyter.widget-view+json": {
       "model_id": "1fbbd2c48f864752aa07f2a8bd60b58f",
       "version_major": 2,
       "version_minor": 0
      },
      "text/plain": [
       "Epoch 19/1500:   0%|          | 0/182 [00:00<?, ?it/s]"
      ]
     },
     "metadata": {},
     "output_type": "display_data"
    },
    {
     "data": {
      "application/vnd.jupyter.widget-view+json": {
       "model_id": "6a9683a5a69c44e7afa1ebab3bf60835",
       "version_major": 2,
       "version_minor": 0
      },
      "text/plain": [
       "Epoch 20/1500:   0%|          | 0/182 [00:00<?, ?it/s]"
      ]
     },
     "metadata": {},
     "output_type": "display_data"
    },
    {
     "data": {
      "application/vnd.jupyter.widget-view+json": {
       "model_id": "056d8bd377f742549c63914bede05ad0",
       "version_major": 2,
       "version_minor": 0
      },
      "text/plain": [
       "Epoch 21/1500:   0%|          | 0/182 [00:00<?, ?it/s]"
      ]
     },
     "metadata": {},
     "output_type": "display_data"
    },
    {
     "data": {
      "application/vnd.jupyter.widget-view+json": {
       "model_id": "19b11357921148c5a041c6369bc748cc",
       "version_major": 2,
       "version_minor": 0
      },
      "text/plain": [
       "Epoch 22/1500:   0%|          | 0/182 [00:00<?, ?it/s]"
      ]
     },
     "metadata": {},
     "output_type": "display_data"
    },
    {
     "data": {
      "application/vnd.jupyter.widget-view+json": {
       "model_id": "be341e5ea5d344de9655854a348a9f57",
       "version_major": 2,
       "version_minor": 0
      },
      "text/plain": [
       "Epoch 23/1500:   0%|          | 0/182 [00:00<?, ?it/s]"
      ]
     },
     "metadata": {},
     "output_type": "display_data"
    },
    {
     "data": {
      "application/vnd.jupyter.widget-view+json": {
       "model_id": "0ac5afbf4df045978bfc79baf35a2cd0",
       "version_major": 2,
       "version_minor": 0
      },
      "text/plain": [
       "Epoch 24/1500:   0%|          | 0/182 [00:00<?, ?it/s]"
      ]
     },
     "metadata": {},
     "output_type": "display_data"
    },
    {
     "data": {
      "application/vnd.jupyter.widget-view+json": {
       "model_id": "9c598ac0bf7c43cb97c98de383144f54",
       "version_major": 2,
       "version_minor": 0
      },
      "text/plain": [
       "Epoch 25/1500:   0%|          | 0/182 [00:00<?, ?it/s]"
      ]
     },
     "metadata": {},
     "output_type": "display_data"
    },
    {
     "data": {
      "application/vnd.jupyter.widget-view+json": {
       "model_id": "5d7b183591ad45d38955af1a6f417e13",
       "version_major": 2,
       "version_minor": 0
      },
      "text/plain": [
       "Epoch 26/1500:   0%|          | 0/182 [00:00<?, ?it/s]"
      ]
     },
     "metadata": {},
     "output_type": "display_data"
    },
    {
     "data": {
      "application/vnd.jupyter.widget-view+json": {
       "model_id": "22a7ff4fe9c94e78b5242396115622e3",
       "version_major": 2,
       "version_minor": 0
      },
      "text/plain": [
       "Epoch 27/1500:   0%|          | 0/182 [00:00<?, ?it/s]"
      ]
     },
     "metadata": {},
     "output_type": "display_data"
    },
    {
     "data": {
      "application/vnd.jupyter.widget-view+json": {
       "model_id": "961ff2dc7b6541f788d65fb8ef10bd04",
       "version_major": 2,
       "version_minor": 0
      },
      "text/plain": [
       "Epoch 28/1500:   0%|          | 0/182 [00:00<?, ?it/s]"
      ]
     },
     "metadata": {},
     "output_type": "display_data"
    },
    {
     "data": {
      "application/vnd.jupyter.widget-view+json": {
       "model_id": "f6660646980e4404989ff24bae0ba4d3",
       "version_major": 2,
       "version_minor": 0
      },
      "text/plain": [
       "Epoch 29/1500:   0%|          | 0/182 [00:00<?, ?it/s]"
      ]
     },
     "metadata": {},
     "output_type": "display_data"
    },
    {
     "data": {
      "application/vnd.jupyter.widget-view+json": {
       "model_id": "f9531005f7e8422b8fb43b52942777a5",
       "version_major": 2,
       "version_minor": 0
      },
      "text/plain": [
       "Epoch 30/1500:   0%|          | 0/182 [00:00<?, ?it/s]"
      ]
     },
     "metadata": {},
     "output_type": "display_data"
    },
    {
     "data": {
      "application/vnd.jupyter.widget-view+json": {
       "model_id": "9cef92446ee145ae9147fca594d0cfd6",
       "version_major": 2,
       "version_minor": 0
      },
      "text/plain": [
       "Epoch 31/1500:   0%|          | 0/182 [00:00<?, ?it/s]"
      ]
     },
     "metadata": {},
     "output_type": "display_data"
    },
    {
     "data": {
      "application/vnd.jupyter.widget-view+json": {
       "model_id": "d8ac7872283c43b89ab545cfd1e3f335",
       "version_major": 2,
       "version_minor": 0
      },
      "text/plain": [
       "Epoch 32/1500:   0%|          | 0/182 [00:00<?, ?it/s]"
      ]
     },
     "metadata": {},
     "output_type": "display_data"
    },
    {
     "data": {
      "application/vnd.jupyter.widget-view+json": {
       "model_id": "cc24c24909934e0895928924731d802a",
       "version_major": 2,
       "version_minor": 0
      },
      "text/plain": [
       "Epoch 33/1500:   0%|          | 0/182 [00:00<?, ?it/s]"
      ]
     },
     "metadata": {},
     "output_type": "display_data"
    },
    {
     "data": {
      "application/vnd.jupyter.widget-view+json": {
       "model_id": "55bbbad4b76c49a1a5a0db2dfdb6505b",
       "version_major": 2,
       "version_minor": 0
      },
      "text/plain": [
       "Epoch 34/1500:   0%|          | 0/182 [00:00<?, ?it/s]"
      ]
     },
     "metadata": {},
     "output_type": "display_data"
    },
    {
     "data": {
      "application/vnd.jupyter.widget-view+json": {
       "model_id": "b84a8597ac5340be9cdcc9e976000ab3",
       "version_major": 2,
       "version_minor": 0
      },
      "text/plain": [
       "Epoch 35/1500:   0%|          | 0/182 [00:00<?, ?it/s]"
      ]
     },
     "metadata": {},
     "output_type": "display_data"
    },
    {
     "data": {
      "application/vnd.jupyter.widget-view+json": {
       "model_id": "52023c93d1ca49d8a4c92b15d4de599f",
       "version_major": 2,
       "version_minor": 0
      },
      "text/plain": [
       "Epoch 36/1500:   0%|          | 0/182 [00:00<?, ?it/s]"
      ]
     },
     "metadata": {},
     "output_type": "display_data"
    },
    {
     "data": {
      "application/vnd.jupyter.widget-view+json": {
       "model_id": "48574c98483e447e88c615ba269d16f5",
       "version_major": 2,
       "version_minor": 0
      },
      "text/plain": [
       "Epoch 37/1500:   0%|          | 0/182 [00:00<?, ?it/s]"
      ]
     },
     "metadata": {},
     "output_type": "display_data"
    },
    {
     "data": {
      "application/vnd.jupyter.widget-view+json": {
       "model_id": "c28f912b3dac428289a23f9fca654f06",
       "version_major": 2,
       "version_minor": 0
      },
      "text/plain": [
       "Epoch 38/1500:   0%|          | 0/182 [00:00<?, ?it/s]"
      ]
     },
     "metadata": {},
     "output_type": "display_data"
    },
    {
     "data": {
      "application/vnd.jupyter.widget-view+json": {
       "model_id": "9d14ca840b6046cdbd62a04e7ad95b7e",
       "version_major": 2,
       "version_minor": 0
      },
      "text/plain": [
       "Epoch 39/1500:   0%|          | 0/182 [00:00<?, ?it/s]"
      ]
     },
     "metadata": {},
     "output_type": "display_data"
    },
    {
     "data": {
      "application/vnd.jupyter.widget-view+json": {
       "model_id": "b37d5cccf91a4ef6b569bfaa806b706e",
       "version_major": 2,
       "version_minor": 0
      },
      "text/plain": [
       "Epoch 40/1500:   0%|          | 0/182 [00:00<?, ?it/s]"
      ]
     },
     "metadata": {},
     "output_type": "display_data"
    },
    {
     "data": {
      "application/vnd.jupyter.widget-view+json": {
       "model_id": "a2449dfdaf2c42c9b2a26e76f21081df",
       "version_major": 2,
       "version_minor": 0
      },
      "text/plain": [
       "Epoch 41/1500:   0%|          | 0/182 [00:00<?, ?it/s]"
      ]
     },
     "metadata": {},
     "output_type": "display_data"
    },
    {
     "data": {
      "application/vnd.jupyter.widget-view+json": {
       "model_id": "ca47af238f094b249d76031553ce97c3",
       "version_major": 2,
       "version_minor": 0
      },
      "text/plain": [
       "Epoch 42/1500:   0%|          | 0/182 [00:00<?, ?it/s]"
      ]
     },
     "metadata": {},
     "output_type": "display_data"
    }
   ],
   "source": [
    "end_epoch = 1500\n",
    "\n",
    "torch.backends.cudnn.benchmark = True\n",
    "\n",
    "for epoch in range(start_epoch, end_epoch):\n",
    "    with tqdm(train_loader, desc=f\"Epoch {epoch+1}/{end_epoch}\", leave=False) as pbar:\n",
    "        for real_A, real_B in pbar:\n",
    "            loss_D, loss_G = model.module.train_step(real_A, real_B)\n",
    "            pbar.set_postfix({\n",
    "                \"Loss D\": loss_D,\n",
    "                \"Loss G\": loss_G,\n",
    "                \"LR D\": model.module.optimizer_D.param_groups[0]['lr'],\n",
    "                \"LR G\": model.module.optimizer_G.param_groups[0]['lr']\n",
    "            })\n",
    "\n",
    "        # Адаптация скорости обучения\n",
    "        model.module.step_schedulers(loss_G, loss_D)\n",
    "\n",
    "        g_loss.append(loss_G)\n",
    "        d_loss.append(loss_D)\n",
    "\n",
    "        if (epoch + 1) % 100 == 0:\n",
    "            save_checkpoint(epoch, model, loss_G, loss_D)\n",
    "            save_losses(g_loss=g_loss, d_loss=d_loss)\n"
   ]
  },
  {
   "cell_type": "code",
   "execution_count": null,
   "metadata": {},
   "outputs": [],
   "source": []
  }
 ],
 "metadata": {
  "kernelspec": {
   "display_name": "Python 3",
   "language": "python",
   "name": "python3"
  },
  "language_info": {
   "codemirror_mode": {
    "name": "ipython",
    "version": 3
   },
   "file_extension": ".py",
   "mimetype": "text/x-python",
   "name": "python",
   "nbconvert_exporter": "python",
   "pygments_lexer": "ipython3",
   "version": "3.9.13"
  }
 },
 "nbformat": 4,
 "nbformat_minor": 2
}
